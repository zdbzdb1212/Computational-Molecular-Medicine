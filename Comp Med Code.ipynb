{
 "cells": [
  {
   "cell_type": "markdown",
   "metadata": {},
   "source": [
    "# DataSet First Progress Report\n",
    "### Zachary Boroughs\n",
    "### DataSet 31 - Breast Cancer Expression"
   ]
  },
  {
   "cell_type": "code",
   "execution_count": 2,
   "metadata": {},
   "outputs": [
    {
     "name": "stdout",
     "output_type": "stream",
     "text": [
      "30 positive values and 111 negative values\n"
     ]
    },
    {
     "name": "stderr",
     "output_type": "stream",
     "text": [
      "C:\\Users\\zdbor\\Anaconda3\\lib\\site-packages\\IPython\\core\\interactiveshell.py:3020: DtypeWarning: Columns (1,2,3,4,5,6,7,8,9,10,11,12,13,14,15,16,17,18,19,20,21,22,23,24,25,26,27,28,29,30,31,32,33,34,35,36,37,38,39,40,41,42,43,44,45,46,47,48,49,50,51,52,53,54,55,56,57,58,59,60,61,62,63,64,65,66,67,68,69,70,71,72,73,74,75,76,77,78,79,80,81,82,83,84,85,86,87,88,89,90,91,92,93,94,95,96,97,98,99,100,101,102,103,104,105,106,107,108,109,110,111,112,113,114,115,116,117,118,119,120,121,122,123,124,125,126,127,128,129,130,131,132,133,134,135,136,137,138,139,140) have mixed types. Specify dtype option on import or set low_memory=False.\n",
      "  interactivity=interactivity, compiler=compiler, result=result)\n"
     ]
    }
   ],
   "source": [
    "import pandas as pd\n",
    "import numpy as np\n",
    "import matplotlib.pyplot as plt\n",
    "import seaborn as sns\n",
    "\n",
    "\n",
    "#Data Preprocessing\n",
    "data = pd.read_csv('data11.csv')\n",
    "\n",
    "data_math = data\n",
    "pos_val = 0;\n",
    "neg_val = 0;\n",
    "for column in data_math:\n",
    "    if data_math[column][0] == 'P':\n",
    "        data_math[column][0] = 1\n",
    "        pos_val += 1;\n",
    "    else:\n",
    "        data_math[column][0] = 0\n",
    "        neg_val += 1;\n",
    "print(pos_val, 'positive values and', neg_val, 'negative values')\n",
    "\n",
    "row1 = data_math['Unnamed: 0']\n",
    "data_math = data_math.drop(['Unnamed: 0'], axis=1)\n",
    "data_math = data_math.astype(float)\n",
    "data_math = data_math.transpose()\n",
    "#First column is now our positive/negative binary value\n"
   ]
  },
  {
   "cell_type": "code",
   "execution_count": 2,
   "metadata": {},
   "outputs": [
    {
     "name": "stdout",
     "output_type": "stream",
     "text": [
      "          0         1         2         3         4         5         6      \\\n",
      "0      1.000000  0.272908  0.094307 -0.024906 -0.019456 -0.064330 -0.066075   \n",
      "1      0.272908  1.000000 -0.014407  0.009606  0.093868 -0.176109 -0.153446   \n",
      "2      0.094307 -0.014407  1.000000 -0.072167 -0.491761 -0.419759 -0.390716   \n",
      "3     -0.024906  0.009606 -0.072167  1.000000  0.253104  0.197648  0.073222   \n",
      "4     -0.019456  0.093868 -0.491761  0.253104  1.000000  0.591833  0.291456   \n",
      "5     -0.064330 -0.176109 -0.419759  0.197648  0.591833  1.000000  0.266546   \n",
      "6     -0.066075 -0.153446 -0.390716  0.073222  0.291456  0.266546  1.000000   \n",
      "7      0.062948 -0.012786 -0.575677  0.208253  0.655583  0.546902  0.358197   \n",
      "8     -0.074013 -0.071194 -0.160391  0.071295  0.384715  0.305745  0.031545   \n",
      "9     -0.040641 -0.251349 -0.058317  0.148414  0.038339  0.026105  0.340389   \n",
      "10     0.010951 -0.071621 -0.424519  0.264452  0.564771  0.490199  0.313028   \n",
      "11    -0.038787  0.120273  0.072613  0.184762  0.149330 -0.022002 -0.133392   \n",
      "12     0.159350  0.160857  0.134226 -0.002181 -0.018700 -0.015136 -0.074098   \n",
      "13    -0.050590  0.086979 -0.288067  0.087859  0.544342  0.346457  0.166856   \n",
      "14    -0.135622  0.080030 -0.461339  0.229165  0.594043  0.408561  0.257687   \n",
      "15    -0.037831 -0.103359 -0.399214  0.309223  0.717790  0.553127  0.299627   \n",
      "16     0.167522  0.012064 -0.208367 -0.099455 -0.042390  0.003312  0.143602   \n",
      "17    -0.039873 -0.151787  0.130302  0.038367  0.063994 -0.007265 -0.031455   \n",
      "18     0.067573 -0.108145 -0.188301  0.165912  0.352998  0.326561  0.054698   \n",
      "19    -0.003830  0.121090 -0.377856  0.282809  0.859999  0.508916  0.219144   \n",
      "20     0.004228  0.278755  0.096339  0.105319 -0.010637 -0.029171 -0.089599   \n",
      "21     0.010739  0.261400  0.318167 -0.115405 -0.469281 -0.392465 -0.108496   \n",
      "22     0.152594  0.461505  0.342931 -0.075316 -0.341157 -0.480647 -0.302962   \n",
      "23     0.005164  0.156149  0.458493 -0.149793 -0.537802 -0.455470 -0.271153   \n",
      "24    -0.020505  0.081781  0.391801 -0.081432 -0.564163 -0.409024 -0.161397   \n",
      "25     0.006021  0.144011  0.437344 -0.111831 -0.592100 -0.468802 -0.383024   \n",
      "26     0.093438  0.152310  0.441972 -0.149841 -0.529622 -0.492046 -0.157249   \n",
      "27    -0.049272  0.128053  0.491633 -0.154954 -0.618902 -0.545332 -0.327654   \n",
      "28    -0.029350  0.137463  0.350158 -0.100707 -0.606594 -0.477442 -0.208514   \n",
      "29    -0.063299 -0.140602  0.540877 -0.058305 -0.333088 -0.236917 -0.228647   \n",
      "...         ...       ...       ...       ...       ...       ...       ...   \n",
      "13270  0.039221  0.098188 -0.141097 -0.052628  0.276791  0.128846 -0.046533   \n",
      "13271 -0.009822 -0.268013 -0.177716  0.101212  0.217832  0.263660  0.236029   \n",
      "13272 -0.154314 -0.170890 -0.312034  0.099766  0.321235  0.320903  0.152406   \n",
      "13273 -0.212768  0.093612 -0.307045  0.054667  0.208223  0.175513  0.280389   \n",
      "13274 -0.203536 -0.214069  0.002276 -0.107704 -0.108388  0.037430  0.056985   \n",
      "13275 -0.066150 -0.162388 -0.247876  0.206165  0.333495  0.273161  0.237408   \n",
      "13276 -0.050738 -0.093812 -0.124500  0.218116  0.484973  0.283757  0.052956   \n",
      "13277 -0.050111  0.029024 -0.490530  0.283324  0.816391  0.612185  0.389608   \n",
      "13278 -0.048386 -0.221873 -0.391195  0.132824  0.371073  0.455774  0.274293   \n",
      "13279  0.009703 -0.178761 -0.266221 -0.018451  0.258540  0.420755  0.291857   \n",
      "13280 -0.125067 -0.129067 -0.252939  0.274655  0.469149  0.425981  0.189546   \n",
      "13281 -0.017798 -0.117451 -0.002479 -0.025044 -0.068576  0.089542  0.074878   \n",
      "13282  0.046723 -0.223920 -0.215419  0.019744  0.276613  0.349619  0.280845   \n",
      "13283  0.012739  0.136539 -0.391057  0.096910  0.339619  0.252077  0.135391   \n",
      "13284 -0.116574 -0.187295 -0.245230 -0.216363 -0.165430  0.082181  0.183915   \n",
      "13285  0.013403 -0.058827 -0.307472  0.155379  0.350332  0.406656  0.161263   \n",
      "13286 -0.177738  0.085878 -0.195159  0.099626 -0.000656  0.099952  0.087043   \n",
      "13287  0.043992 -0.131869 -0.271373  0.218763  0.513794  0.336437  0.127555   \n",
      "13288 -0.001133  0.092026 -0.349431  0.119313  0.288533  0.192154  0.121857   \n",
      "13289  0.055642 -0.042921  0.416639 -0.069315 -0.265571 -0.278374 -0.212966   \n",
      "13290 -0.178633 -0.150957  0.186859  0.037617 -0.313650 -0.169393 -0.179763   \n",
      "13291 -0.091925 -0.277028 -0.351127  0.134892  0.472755  0.624895  0.369856   \n",
      "13292 -0.113596  0.033666 -0.122166  0.021961  0.081841  0.139861  0.177346   \n",
      "13293  0.192685  0.160627 -0.284070  0.143528  0.717966  0.401728  0.162484   \n",
      "13294 -0.098602 -0.291763  0.100691  0.000282  0.016857  0.072200  0.027042   \n",
      "13295 -0.280206  0.022106 -0.059687 -0.040281  0.109994  0.051632  0.057507   \n",
      "13296  0.122590  0.155904  0.283894 -0.058963  0.006023 -0.089417 -0.094842   \n",
      "13297 -0.149667 -0.241834  0.033819 -0.116403 -0.347929 -0.108252  0.075950   \n",
      "13298 -0.084028 -0.272589 -0.329496  0.102427  0.430073  0.492216  0.355016   \n",
      "13299 -0.101150 -0.074280 -0.320149  0.066639  0.096949  0.230936  0.216991   \n",
      "\n",
      "          7         8         9        ...        13290     13291     13292  \\\n",
      "0      0.062948 -0.074013 -0.040641    ...    -0.178633 -0.091925 -0.113596   \n",
      "1     -0.012786 -0.071194 -0.251349    ...    -0.150957 -0.277028  0.033666   \n",
      "2     -0.575677 -0.160391 -0.058317    ...     0.186859 -0.351127 -0.122166   \n",
      "3      0.208253  0.071295  0.148414    ...     0.037617  0.134892  0.021961   \n",
      "4      0.655583  0.384715  0.038339    ...    -0.313650  0.472755  0.081841   \n",
      "5      0.546902  0.305745  0.026105    ...    -0.169393  0.624895  0.139861   \n",
      "6      0.358197  0.031545  0.340389    ...    -0.179763  0.369856  0.177346   \n",
      "7      1.000000  0.304872 -0.006078    ...    -0.209964  0.560109  0.197627   \n",
      "8      0.304872  1.000000 -0.056234    ...    -0.075014  0.254275  0.113690   \n",
      "9     -0.006078 -0.056234  1.000000    ...     0.024890  0.160633  0.058705   \n",
      "10     0.621290  0.320586  0.008954    ...    -0.229062  0.533634  0.307566   \n",
      "11     0.024182  0.156085 -0.051279    ...     0.003895 -0.008244 -0.137403   \n",
      "12    -0.000319  0.192678  0.096634    ...     0.192621  0.022404  0.074822   \n",
      "13     0.443745  0.226700 -0.045522    ...    -0.160991  0.213798  0.004167   \n",
      "14     0.535490  0.351267 -0.013891    ...    -0.147730  0.332435  0.209247   \n",
      "15     0.548987  0.290625  0.142426    ...    -0.204775  0.530201  0.042792   \n",
      "16     0.168465 -0.046605  0.000853    ...     0.148894  0.003751  0.155477   \n",
      "17     0.002187  0.176679 -0.014864    ...    -0.280951  0.047042 -0.082420   \n",
      "18     0.277006  0.144735  0.118188    ...    -0.019868  0.261435  0.025790   \n",
      "19     0.580631  0.421302  0.099646    ...    -0.315221  0.456284  0.132959   \n",
      "20    -0.088914  0.049522 -0.222145    ...     0.150324 -0.108186 -0.066473   \n",
      "21    -0.546469 -0.277438  0.047751    ...     0.286120 -0.422070 -0.097652   \n",
      "22    -0.525603 -0.210537 -0.107856    ...    -0.016135 -0.561796 -0.072385   \n",
      "23    -0.552615 -0.190051  0.035876    ...     0.340305 -0.427734 -0.141486   \n",
      "24    -0.542270 -0.271122  0.197912    ...     0.266001 -0.353148 -0.097447   \n",
      "25    -0.659954 -0.255862  0.017149    ...     0.194913 -0.497157 -0.202914   \n",
      "26    -0.578732 -0.348160  0.108530    ...     0.216153 -0.449787 -0.236563   \n",
      "27    -0.679677 -0.293483 -0.102031    ...     0.259380 -0.513608 -0.235363   \n",
      "28    -0.582727 -0.294811 -0.008254    ...     0.095030 -0.466430 -0.182039   \n",
      "29    -0.425308 -0.049918  0.001300    ...     0.105778 -0.246547 -0.220986   \n",
      "...         ...       ...       ...    ...          ...       ...       ...   \n",
      "13270  0.230837  0.146044  0.022484    ...    -0.016165  0.198242  0.236110   \n",
      "13271  0.198365  0.066774  0.211455    ...    -0.204658  0.369155  0.106829   \n",
      "13272  0.531748  0.101616  0.062474    ...     0.021904  0.443940  0.088971   \n",
      "13273  0.217800 -0.054495 -0.075079    ...     0.012369  0.208663  0.128180   \n",
      "13274 -0.036642 -0.071541 -0.063868    ...     0.138860  0.105762  0.169163   \n",
      "13275  0.356599  0.115724  0.044356    ...    -0.141852  0.425537  0.176567   \n",
      "13276  0.255781  0.248924  0.006246    ...     0.060026  0.315581 -0.061630   \n",
      "13277  0.660471  0.338940  0.163190    ...    -0.246964  0.626184  0.206892   \n",
      "13278  0.477577  0.190076  0.000256    ...    -0.137045  0.520859  0.056636   \n",
      "13279  0.373071  0.021288  0.107917    ...    -0.140537  0.491990  0.285992   \n",
      "13280  0.359784  0.311129  0.031764    ...    -0.110459  0.414404  0.138455   \n",
      "13281  0.098266 -0.052491  0.036998    ...     0.086991  0.132277  0.179534   \n",
      "13282  0.364209  0.116413  0.162259    ...    -0.090025  0.481951  0.144293   \n",
      "13283  0.442954  0.219948 -0.051442    ...    -0.104089  0.278213  0.164887   \n",
      "13284  0.147576 -0.083810 -0.036693    ...    -0.023624  0.212200  0.135735   \n",
      "13285  0.324287  0.195304  0.090273    ...    -0.128381  0.360313  0.190945   \n",
      "13286  0.113949  0.031286 -0.260004    ...    -0.168591 -0.002939 -0.043445   \n",
      "13287  0.421935  0.257525  0.054076    ...    -0.124902  0.327830  0.002027   \n",
      "13288  0.349780  0.227838 -0.043818    ...    -0.079139  0.129402  0.256980   \n",
      "13289 -0.275321 -0.021866  0.100137    ...    -0.039344 -0.200069 -0.220045   \n",
      "13290 -0.209964 -0.075014  0.024890    ...     1.000000 -0.140496 -0.072948   \n",
      "13291  0.560109  0.254275  0.160633    ...    -0.140496  1.000000  0.294378   \n",
      "13292  0.197627  0.113690  0.058705    ...    -0.072948  0.294378  1.000000   \n",
      "13293  0.446962  0.318282  0.018633    ...    -0.287345  0.272605  0.059254   \n",
      "13294  0.026133  0.148830  0.288323    ...     0.269692  0.217909  0.125570   \n",
      "13295 -0.063208  0.058504 -0.130979    ...    -0.098730 -0.016574  0.062378   \n",
      "13296 -0.225423  0.010407  0.125987    ...     0.057690 -0.125334 -0.042587   \n",
      "13297 -0.049106  0.020483  0.028987    ...     0.018324  0.055479  0.203913   \n",
      "13298  0.465294  0.148458  0.024021    ...    -0.166253  0.540919  0.147501   \n",
      "13299  0.328342  0.004375 -0.095379    ...    -0.048455  0.396286  0.334653   \n",
      "\n",
      "          13293     13294     13295     13296     13297     13298     13299  \n",
      "0      0.192685 -0.098602 -0.280206  0.122590 -0.149667 -0.084028 -0.101150  \n",
      "1      0.160627 -0.291763  0.022106  0.155904 -0.241834 -0.272589 -0.074280  \n",
      "2     -0.284070  0.100691 -0.059687  0.283894  0.033819 -0.329496 -0.320149  \n",
      "3      0.143528  0.000282 -0.040281 -0.058963 -0.116403  0.102427  0.066639  \n",
      "4      0.717966  0.016857  0.109994  0.006023 -0.347929  0.430073  0.096949  \n",
      "5      0.401728  0.072200  0.051632 -0.089417 -0.108252  0.492216  0.230936  \n",
      "6      0.162484  0.027042  0.057507 -0.094842  0.075950  0.355016  0.216991  \n",
      "7      0.446962  0.026133 -0.063208 -0.225423 -0.049106  0.465294  0.328342  \n",
      "8      0.318282  0.148830  0.058504  0.010407  0.020483  0.148458  0.004375  \n",
      "9      0.018633  0.288323 -0.130979  0.125987  0.028987  0.024021 -0.095379  \n",
      "10     0.329324  0.030909  0.005634 -0.139900 -0.114963  0.420382  0.297232  \n",
      "11     0.154942  0.065009  0.050359  0.062443 -0.097429 -0.110248 -0.124327  \n",
      "12     0.089817  0.193159 -0.133929  0.168612 -0.009511 -0.154840  0.028159  \n",
      "13     0.410423  0.037996  0.044088 -0.051515 -0.196519  0.244862  0.077196  \n",
      "14     0.415497  0.042986  0.053980 -0.050149 -0.141806  0.259099  0.183258  \n",
      "15     0.508576  0.078324  0.065915 -0.014775 -0.145564  0.516065  0.046188  \n",
      "16     0.006501 -0.050443 -0.084280 -0.098761  0.029108  0.009687  0.192413  \n",
      "17     0.005034 -0.132857  0.099717 -0.080551 -0.059532  0.049589 -0.104347  \n",
      "18     0.214657 -0.028908  0.080057  0.004561 -0.190996  0.321188 -0.010571  \n",
      "19     0.665146  0.156599  0.042101  0.022844 -0.223357  0.337707  0.155026  \n",
      "20    -0.058127  0.006127 -0.039528  0.081730 -0.060715 -0.150955 -0.066946  \n",
      "21    -0.254234  0.032280  0.047035  0.333529  0.053485 -0.384991 -0.289801  \n",
      "22    -0.169271 -0.118958  0.028945  0.214613 -0.166257 -0.509797 -0.339313  \n",
      "23    -0.337447  0.106928 -0.129829  0.403322  0.110418 -0.392172 -0.371708  \n",
      "24    -0.349221  0.196340 -0.167641  0.390304  0.171805 -0.356499 -0.294382  \n",
      "25    -0.322128  0.069802 -0.074310  0.349842  0.011556 -0.481918 -0.413393  \n",
      "26    -0.275125  0.059627 -0.141872  0.429957  0.030567 -0.375549 -0.280965  \n",
      "27    -0.425280  0.130811 -0.003167  0.252143  0.082503 -0.468746 -0.351668  \n",
      "28    -0.420249  0.044562 -0.136411  0.226923  0.205050 -0.436159 -0.304894  \n",
      "29    -0.209485 -0.026647 -0.013228  0.036071  0.060562 -0.153596 -0.294274  \n",
      "...         ...       ...       ...       ...       ...       ...       ...  \n",
      "13270  0.274731  0.119669 -0.088070 -0.043048  0.072691  0.047054  0.281143  \n",
      "13271  0.237692  0.099459 -0.044311 -0.017797  0.091867  0.381801  0.009694  \n",
      "13272  0.225569  0.251839  0.047491 -0.159247  0.066070  0.264154  0.402745  \n",
      "13273  0.128244 -0.055578  0.170358 -0.104184  0.031117  0.261212  0.193687  \n",
      "13274 -0.230331  0.104605  0.099910 -0.011984  0.111332  0.115171  0.128725  \n",
      "13275  0.118072  0.002031 -0.014119 -0.162722 -0.012071  0.263748  0.259643  \n",
      "13276  0.352931  0.083555  0.072178  0.105505 -0.166883  0.254023  0.048034  \n",
      "13277  0.596891  0.091819  0.046203 -0.092978 -0.239969  0.400862  0.301817  \n",
      "13278  0.303720  0.100543  0.031061 -0.282919  0.015709  0.450390  0.302505  \n",
      "13279  0.114541  0.156014 -0.129917 -0.126438  0.031791  0.381991  0.400346  \n",
      "13280  0.255314  0.122323 -0.125936 -0.010820  0.037816  0.336004  0.096244  \n",
      "13281 -0.099747 -0.015772  0.081204 -0.106249 -0.003529  0.045880  0.245068  \n",
      "13282  0.178204  0.053373 -0.066425 -0.211475 -0.022205  0.294249  0.386890  \n",
      "13283  0.222838  0.103285 -0.021588 -0.211060 -0.003867  0.129116  0.252911  \n",
      "13284 -0.176307  0.201838  0.172855 -0.326621  0.352612  0.093944  0.397373  \n",
      "13285  0.273749  0.126494 -0.077844  0.016133  0.019783  0.178791  0.119269  \n",
      "13286 -0.050183 -0.225909  0.132387 -0.381202  0.057618  0.064306  0.129317  \n",
      "13287  0.323212  0.044541  0.145551 -0.001925 -0.275239  0.185472  0.046433  \n",
      "13288  0.249794  0.042901  0.072674  0.030103 -0.121396  0.161959  0.129724  \n",
      "13289 -0.213420  0.069308 -0.092956  0.152340  0.062826 -0.178331 -0.354892  \n",
      "13290 -0.287345  0.269692 -0.098730  0.057690  0.018324 -0.166253 -0.048455  \n",
      "13291  0.272605  0.217909 -0.016574 -0.125334  0.055479  0.540919  0.396286  \n",
      "13292  0.059254  0.125570  0.062378 -0.042587  0.203913  0.147501  0.334653  \n",
      "13293  1.000000  0.042618  0.131194  0.188550 -0.314873  0.314816 -0.023196  \n",
      "13294  0.042618  1.000000  0.026895  0.113264  0.139852  0.028599  0.045564  \n",
      "13295  0.131194  0.026895  1.000000 -0.017693 -0.141045  0.102935  0.079149  \n",
      "13296  0.188550  0.113264 -0.017693  1.000000 -0.127850 -0.118886 -0.406257  \n",
      "13297 -0.314873  0.139852 -0.141045 -0.127850  1.000000  0.082547  0.124358  \n",
      "13298  0.314816  0.028599  0.102935 -0.118886  0.082547  1.000000  0.234059  \n",
      "13299 -0.023196  0.045564  0.079149 -0.406257  0.124358  0.234059  1.000000  \n",
      "\n",
      "[13300 rows x 13300 columns]\n"
     ]
    }
   ],
   "source": [
    "corrMatrix = data_math.corr()\n",
    "print(corrMatrix)\n",
    "#This is our correlation matrix for the data, our first column is the positive/negative binary value\n"
   ]
  },
  {
   "cell_type": "code",
   "execution_count": 132,
   "metadata": {},
   "outputs": [
    {
     "ename": "NameError",
     "evalue": "name 'corrMatrix' is not defined",
     "output_type": "error",
     "traceback": [
      "\u001b[1;31m---------------------------------------------------------------------------\u001b[0m",
      "\u001b[1;31mNameError\u001b[0m                                 Traceback (most recent call last)",
      "\u001b[1;32m<ipython-input-132-c09a4aa3a416>\u001b[0m in \u001b[0;36m<module>\u001b[1;34m\u001b[0m\n\u001b[1;32m----> 1\u001b[1;33m \u001b[0mcorrMatrix\u001b[0m\u001b[1;33m.\u001b[0m\u001b[0msort_values\u001b[0m\u001b[1;33m(\u001b[0m\u001b[1;33m[\u001b[0m\u001b[1;36m0\u001b[0m\u001b[1;33m]\u001b[0m\u001b[1;33m,\u001b[0m \u001b[0mascending\u001b[0m\u001b[1;33m=\u001b[0m\u001b[1;32mFalse\u001b[0m\u001b[1;33m)\u001b[0m\u001b[1;33m.\u001b[0m\u001b[0mhead\u001b[0m\u001b[1;33m(\u001b[0m\u001b[1;36m10\u001b[0m\u001b[1;33m)\u001b[0m\u001b[1;33m\u001b[0m\u001b[1;33m\u001b[0m\u001b[0m\n\u001b[0m\u001b[0;32m      2\u001b[0m \u001b[1;31m#These are our most positively correlated genes (by row and ignoring first as that is the binary column itself)\u001b[0m\u001b[1;33m\u001b[0m\u001b[1;33m\u001b[0m\u001b[1;33m\u001b[0m\u001b[0m\n",
      "\u001b[1;31mNameError\u001b[0m: name 'corrMatrix' is not defined"
     ]
    }
   ],
   "source": [
    "corrMatrix.sort_values([0], ascending=False).head(10)\n",
    "#These are our most positively correlated genes (by row and ignoring first as that is the binary column itself)"
   ]
  },
  {
   "cell_type": "code",
   "execution_count": 4,
   "metadata": {},
   "outputs": [
    {
     "data": {
      "text/html": [
       "<div>\n",
       "<style scoped>\n",
       "    .dataframe tbody tr th:only-of-type {\n",
       "        vertical-align: middle;\n",
       "    }\n",
       "\n",
       "    .dataframe tbody tr th {\n",
       "        vertical-align: top;\n",
       "    }\n",
       "\n",
       "    .dataframe thead th {\n",
       "        text-align: right;\n",
       "    }\n",
       "</style>\n",
       "<table border=\"1\" class=\"dataframe\">\n",
       "  <thead>\n",
       "    <tr style=\"text-align: right;\">\n",
       "      <th></th>\n",
       "      <th>0</th>\n",
       "      <th>1</th>\n",
       "      <th>2</th>\n",
       "      <th>3</th>\n",
       "      <th>4</th>\n",
       "      <th>5</th>\n",
       "      <th>6</th>\n",
       "      <th>7</th>\n",
       "      <th>8</th>\n",
       "      <th>9</th>\n",
       "      <th>...</th>\n",
       "      <th>13290</th>\n",
       "      <th>13291</th>\n",
       "      <th>13292</th>\n",
       "      <th>13293</th>\n",
       "      <th>13294</th>\n",
       "      <th>13295</th>\n",
       "      <th>13296</th>\n",
       "      <th>13297</th>\n",
       "      <th>13298</th>\n",
       "      <th>13299</th>\n",
       "    </tr>\n",
       "  </thead>\n",
       "  <tbody>\n",
       "    <tr>\n",
       "      <th>10734</th>\n",
       "      <td>-0.437755</td>\n",
       "      <td>0.031368</td>\n",
       "      <td>-0.107332</td>\n",
       "      <td>-0.006789</td>\n",
       "      <td>0.051804</td>\n",
       "      <td>0.056688</td>\n",
       "      <td>0.087089</td>\n",
       "      <td>0.060633</td>\n",
       "      <td>0.070416</td>\n",
       "      <td>-0.151627</td>\n",
       "      <td>...</td>\n",
       "      <td>0.201230</td>\n",
       "      <td>-0.005428</td>\n",
       "      <td>0.092858</td>\n",
       "      <td>-0.004353</td>\n",
       "      <td>-0.027009</td>\n",
       "      <td>0.332134</td>\n",
       "      <td>-0.128175</td>\n",
       "      <td>0.034186</td>\n",
       "      <td>0.024090</td>\n",
       "      <td>0.093940</td>\n",
       "    </tr>\n",
       "    <tr>\n",
       "      <th>11903</th>\n",
       "      <td>-0.424280</td>\n",
       "      <td>-0.265111</td>\n",
       "      <td>0.034478</td>\n",
       "      <td>-0.108621</td>\n",
       "      <td>-0.091455</td>\n",
       "      <td>-0.028539</td>\n",
       "      <td>0.043931</td>\n",
       "      <td>-0.232973</td>\n",
       "      <td>-0.011241</td>\n",
       "      <td>0.003372</td>\n",
       "      <td>...</td>\n",
       "      <td>0.097770</td>\n",
       "      <td>0.044325</td>\n",
       "      <td>0.018067</td>\n",
       "      <td>-0.137096</td>\n",
       "      <td>0.154122</td>\n",
       "      <td>0.315351</td>\n",
       "      <td>0.018884</td>\n",
       "      <td>0.022821</td>\n",
       "      <td>-0.001075</td>\n",
       "      <td>0.008072</td>\n",
       "    </tr>\n",
       "    <tr>\n",
       "      <th>11295</th>\n",
       "      <td>-0.354448</td>\n",
       "      <td>-0.173667</td>\n",
       "      <td>-0.281464</td>\n",
       "      <td>0.118814</td>\n",
       "      <td>0.117536</td>\n",
       "      <td>0.182166</td>\n",
       "      <td>0.271894</td>\n",
       "      <td>0.136114</td>\n",
       "      <td>0.051884</td>\n",
       "      <td>0.082914</td>\n",
       "      <td>...</td>\n",
       "      <td>-0.046372</td>\n",
       "      <td>0.215136</td>\n",
       "      <td>0.155461</td>\n",
       "      <td>-0.020710</td>\n",
       "      <td>-0.120519</td>\n",
       "      <td>0.182937</td>\n",
       "      <td>-0.273819</td>\n",
       "      <td>0.092272</td>\n",
       "      <td>0.210126</td>\n",
       "      <td>0.297797</td>\n",
       "    </tr>\n",
       "    <tr>\n",
       "      <th>1310</th>\n",
       "      <td>-0.343432</td>\n",
       "      <td>0.163121</td>\n",
       "      <td>-0.033844</td>\n",
       "      <td>-0.086141</td>\n",
       "      <td>-0.165869</td>\n",
       "      <td>-0.191411</td>\n",
       "      <td>0.043620</td>\n",
       "      <td>-0.084776</td>\n",
       "      <td>-0.224204</td>\n",
       "      <td>-0.248270</td>\n",
       "      <td>...</td>\n",
       "      <td>-0.024587</td>\n",
       "      <td>-0.151915</td>\n",
       "      <td>-0.056094</td>\n",
       "      <td>-0.280863</td>\n",
       "      <td>-0.084124</td>\n",
       "      <td>0.193642</td>\n",
       "      <td>-0.082205</td>\n",
       "      <td>0.093368</td>\n",
       "      <td>-0.079211</td>\n",
       "      <td>0.036077</td>\n",
       "    </tr>\n",
       "    <tr>\n",
       "      <th>8745</th>\n",
       "      <td>-0.339187</td>\n",
       "      <td>-0.408495</td>\n",
       "      <td>0.110367</td>\n",
       "      <td>0.129710</td>\n",
       "      <td>-0.004611</td>\n",
       "      <td>0.204410</td>\n",
       "      <td>-0.046982</td>\n",
       "      <td>-0.100279</td>\n",
       "      <td>0.052694</td>\n",
       "      <td>0.115673</td>\n",
       "      <td>...</td>\n",
       "      <td>0.066431</td>\n",
       "      <td>0.135084</td>\n",
       "      <td>-0.219727</td>\n",
       "      <td>-0.049109</td>\n",
       "      <td>0.217112</td>\n",
       "      <td>0.074269</td>\n",
       "      <td>-0.057020</td>\n",
       "      <td>-0.009176</td>\n",
       "      <td>0.247027</td>\n",
       "      <td>-0.104873</td>\n",
       "    </tr>\n",
       "  </tbody>\n",
       "</table>\n",
       "<p>5 rows × 13300 columns</p>\n",
       "</div>"
      ],
      "text/plain": [
       "          0         1         2         3         4         5         6      \\\n",
       "10734 -0.437755  0.031368 -0.107332 -0.006789  0.051804  0.056688  0.087089   \n",
       "11903 -0.424280 -0.265111  0.034478 -0.108621 -0.091455 -0.028539  0.043931   \n",
       "11295 -0.354448 -0.173667 -0.281464  0.118814  0.117536  0.182166  0.271894   \n",
       "1310  -0.343432  0.163121 -0.033844 -0.086141 -0.165869 -0.191411  0.043620   \n",
       "8745  -0.339187 -0.408495  0.110367  0.129710 -0.004611  0.204410 -0.046982   \n",
       "\n",
       "          7         8         9        ...        13290     13291     13292  \\\n",
       "10734  0.060633  0.070416 -0.151627    ...     0.201230 -0.005428  0.092858   \n",
       "11903 -0.232973 -0.011241  0.003372    ...     0.097770  0.044325  0.018067   \n",
       "11295  0.136114  0.051884  0.082914    ...    -0.046372  0.215136  0.155461   \n",
       "1310  -0.084776 -0.224204 -0.248270    ...    -0.024587 -0.151915 -0.056094   \n",
       "8745  -0.100279  0.052694  0.115673    ...     0.066431  0.135084 -0.219727   \n",
       "\n",
       "          13293     13294     13295     13296     13297     13298     13299  \n",
       "10734 -0.004353 -0.027009  0.332134 -0.128175  0.034186  0.024090  0.093940  \n",
       "11903 -0.137096  0.154122  0.315351  0.018884  0.022821 -0.001075  0.008072  \n",
       "11295 -0.020710 -0.120519  0.182937 -0.273819  0.092272  0.210126  0.297797  \n",
       "1310  -0.280863 -0.084124  0.193642 -0.082205  0.093368 -0.079211  0.036077  \n",
       "8745  -0.049109  0.217112  0.074269 -0.057020 -0.009176  0.247027 -0.104873  \n",
       "\n",
       "[5 rows x 13300 columns]"
      ]
     },
     "execution_count": 4,
     "metadata": {},
     "output_type": "execute_result"
    }
   ],
   "source": [
    "corrMatrix.sort_values([0], ascending=True).head(10)\n",
    "#These are our most negatively correlated genes"
   ]
  },
  {
   "cell_type": "code",
   "execution_count": 129,
   "metadata": {},
   "outputs": [
    {
     "name": "stdout",
     "output_type": "stream",
     "text": [
      "GRB7\n",
      "STARD3\n",
      "PGAP3\n",
      "PSMD3\n",
      "MIR6884///MED24\n"
     ]
    },
    {
     "data": {
      "text/plain": [
       "Text(0, 0.5, 'Frequency')"
      ]
     },
     "execution_count": 129,
     "metadata": {},
     "output_type": "execute_result"
    },
    {
     "data": {
      "image/png": "[encoded data removed]",
      "text/plain": [
       "<Figure size 1440x360 with 1 Axes>"
      ]
     },
     "metadata": {
      "needs_background": "light"
     },
     "output_type": "display_data"
    },
    {
     "data": {
      "image/png": "[encoded data removed]",
      "text/plain": [
       "<Figure size 1440x360 with 1 Axes>"
      ]
     },
     "metadata": {
      "needs_background": "light"
     },
     "output_type": "display_data"
    },
    {
     "data": {
      "image/png": "[encoded data removed]",
      "text/plain": [
       "<Figure size 1440x360 with 1 Axes>"
      ]
     },
     "metadata": {
      "needs_background": "light"
     },
     "output_type": "display_data"
    },
    {
     "data": {
      "image/png": "[encoded data removed]",
      "text/plain": [
       "<Figure size 1440x360 with 1 Axes>"
      ]
     },
     "metadata": {
      "needs_background": "light"
     },
     "output_type": "display_data"
    },
    {
     "data": {
      "image/png": "[encoded data removed]",
      "text/plain": [
       "<Figure size 1440x360 with 1 Axes>"
      ]
     },
     "metadata": {
      "needs_background": "light"
     },
     "output_type": "display_data"
    }
   ],
   "source": [
    "#So, let's take a closer look at some of these genes\n",
    "\n",
    "print(data['Unnamed: 0'][7441])\n",
    "#\"Growth factor receptor-bound protein 7 (GRB7) gene is located adjacent to the \n",
    "#HER2 gene on the 17q12-21 amplicon, is often coamplified with HER2 in a subset of \n",
    "#breast cancers, and has been implicated in resistance to anti-HER2 and antiestrogen therapy\".\n",
    "#From 'GRB7 Expression and Correlation With HER2 Amplification in Invasive Breast Carcinoma'\n",
    "#HER2 is a protein of which higher levels commonly correlate with breast cancer, so this correlation\n",
    "#with GRB7 makes sense\n",
    "\n",
    "print(data['Unnamed: 0'][1752])\n",
    "#\"These results provide evidence that StARD3 overexpression results in increased cholesterol \n",
    "#biosynthesis and Src kinase activity in breast cancer cells and suggest that elevated StARD3 \n",
    "#expression may contribute to breast cancer aggressiveness by increasing membrane cholesterol \n",
    "#and enhancing oncogenic signaling.\"\n",
    "#From 'Elevated levels of StAR-related lipid transfer protein 3 alter cholesterol balance and \n",
    "#adhesiveness of breast cancer cells: potential mechanisms contributing to progression of \n",
    "#HER2-positive breast cancers'\n",
    "#Again, we see that elevated levels of STARD3 do have a recognized correlation with\n",
    "#breast cancer onset\n",
    "\n",
    "print(data['Unnamed: 0'][13083])\n",
    "#Although less documented, a study published by The Human Protein Atlas showed that 11/11 patients\n",
    "#with breast cancer tested showed high/medium expression of PGAP3\n",
    "\n",
    "print(data['Unnamed: 0'][633])\n",
    "#\"A brief report revealed that PSMD3 expression was significantly associated with HER2 \n",
    "#and detected in 23% of HER2+ tumors\"\n",
    "#From 'Proteasome 26S Subunit, non-ATPase 3 (PSMD3) Regulates Breast Cancer by Stabilizing HER2 from Degradation'\n",
    "#Again, we see a correlation between PSMD3 and HER2 protein values, supporting the relationship we saw\n",
    "#with GRB7\n",
    "\n",
    "print(data['Unnamed: 0'][8247])\n",
    "#Appears to be more commonly associated with prostate cancer, we see a pretty severe drop between\n",
    "#this gene and prior correlations so may be more associated with cancer growth in general as\n",
    "#opposed to breast cancer specifically\n",
    "\n",
    "\n",
    "plt.figure(figsize=(20,5))\n",
    "axes = data_math[7441].hist(density=True)\n",
    "plt.title('Histogram of GRB7 Values')\n",
    "plt.xlabel('Value')\n",
    "plt.ylabel('Frequency')\n",
    "\n",
    "plt.figure(figsize=(20,5))\n",
    "axes = data_math[1752].hist(density=True)\n",
    "plt.title('Histogram of STARD3 Values')\n",
    "plt.xlabel('Value')\n",
    "plt.ylabel('Frequency')\n",
    "\n",
    "plt.figure(figsize=(20,5))\n",
    "axes = data_math[13083].hist(density=True)\n",
    "plt.title('Histogram of PGAP3 Values')\n",
    "plt.xlabel('Value')\n",
    "plt.ylabel('Frequency')\n",
    "\n",
    "plt.figure(figsize=(20,5))\n",
    "axes = data_math[633].hist(density=True)\n",
    "plt.title('Histogram of PSMD3 Values')\n",
    "plt.xlabel('Value')\n",
    "plt.ylabel('Frequency')\n",
    "\n",
    "plt.figure(figsize=(20,5))\n",
    "axes = data_math[8247].hist(density=True)\n",
    "plt.title('Histogram of MIR6884///MED24 Values')\n",
    "plt.xlabel('Value')\n",
    "plt.ylabel('Frequency')\n",
    "#They all look somewhat normally distributed with the exception of PSMD3\n"
   ]
  },
  {
   "cell_type": "code",
   "execution_count": 130,
   "metadata": {},
   "outputs": [
    {
     "name": "stdout",
     "output_type": "stream",
     "text": [
      "ASB13\n",
      "NUDT6\n",
      "HCFC2\n",
      "SERPINA3\n",
      "SEC22B\n"
     ]
    },
    {
     "data": {
      "text/plain": [
       "Text(0, 0.5, 'Frequency')"
      ]
     },
     "execution_count": 130,
     "metadata": {},
     "output_type": "execute_result"
    },
    {
     "data": {
      "image/png": "[encoded data removed]",
      "text/plain": [
       "<Figure size 1440x360 with 1 Axes>"
      ]
     },
     "metadata": {
      "needs_background": "light"
     },
     "output_type": "display_data"
    },
    {
     "data": {
      "image/png": "[encoded data removed]",
      "text/plain": [
       "<Figure size 1440x360 with 1 Axes>"
      ]
     },
     "metadata": {
      "needs_background": "light"
     },
     "output_type": "display_data"
    },
    {
     "data": {
      "image/png": "[encoded data removed]",
      "text/plain": [
       "<Figure size 1440x360 with 1 Axes>"
      ]
     },
     "metadata": {
      "needs_background": "light"
     },
     "output_type": "display_data"
    },
    {
     "data": {
      "image/png": "[encoded data removed]",
      "text/plain": [
       "<Figure size 1440x360 with 1 Axes>"
      ]
     },
     "metadata": {
      "needs_background": "light"
     },
     "output_type": "display_data"
    },
    {
     "data": {
      "image/png": "[encoded data removed]",
      "text/plain": [
       "<Figure size 1440x360 with 1 Axes>"
      ]
     },
     "metadata": {
      "needs_background": "light"
     },
     "output_type": "display_data"
    }
   ],
   "source": [
    "#Now let's take a look at the negatively correlated badboys\n",
    "print(data['Unnamed: 0'][10734])\n",
    "#\"Clinical data analysis reveals that ASB13 expression is positively correlated \n",
    "#with improved overall survival in breast cancer patients. These findings establish \n",
    "#ASB13 as a suppressor of breast cancer metastasis by promoting degradation of \n",
    "#SNAI2 and relieving its transcriptional repression of YAP.\"\n",
    "#From 'ASB13 inhibits breast cancer metastasis through promoting SNAI2 degradation \n",
    "#and relieving its transcriptional repression of YAP'\n",
    "#So here we see that ASB13 is strongly correlated with survival in breast cancer patients\n",
    "#through surpressing the metastisis of the cancer. As such, this negative correlation\n",
    "#makes sense.\n",
    "\n",
    "print(data['Unnamed: 0'][11903])\n",
    "#Seems to be associated with proliferation of colorectal cancers, strong negative correlation\n",
    "#with regards to breast cancer could be worth investigating.\n",
    "\n",
    "print(data['Unnamed: 0'][11295])\n",
    "#From 'HCF-2 inhibits cell proliferation and activates differentiation-gene expression programs'\n",
    "#Although cancer is not mentioned in the abstract, elevated HCF-2 levels inhibiting cell\n",
    "#proliferation could be a reason being this negative correlation\n",
    "\n",
    "print(data['Unnamed: 0'][1310])\n",
    "#Most research appears to correlate upregulation of SERPINA3 with increased cancer spread,\n",
    "#although negative correlation is not as strong could be worth investigating\n",
    "\n",
    "print(data['Unnamed: 0'][8745])\n",
    "#Mutation in SEC22B have been strongly correlated with a number of cancers (especially breast cancer).\n",
    "#Specifically, the SEC22B-NOTCH2 is commonly seen in aggressive breast cancers. \n",
    "#Interesting as elevated levels of SEC22B seem to be correlated with lower cancer expression,\n",
    "#could be that a higher number of pure SEC22B means that not many mutations are present, could\n",
    "#be worth investigating.\n",
    "\n",
    "\n",
    "plt.figure(figsize=(20,5))\n",
    "axes = data_math[10734].hist(density=True)\n",
    "plt.title('Histogram of ASB13 Values')\n",
    "plt.xlabel('Value')\n",
    "plt.ylabel('Frequency')\n",
    "\n",
    "plt.figure(figsize=(20,5))\n",
    "axes = data_math[11903].hist(density=True)\n",
    "plt.title('Histogram of NUDT6 Values')\n",
    "plt.xlabel('Value')\n",
    "plt.ylabel('Frequency')\n",
    "\n",
    "plt.figure(figsize=(20,5))\n",
    "axes = data_math[11295].hist(density=True)\n",
    "plt.title('Histogram of HCFC2 Values')\n",
    "plt.xlabel('Value')\n",
    "plt.ylabel('Frequency')\n",
    "\n",
    "plt.figure(figsize=(20,5))\n",
    "axes = data_math[1310].hist(density=True)\n",
    "plt.title('Histogram of SERPINA3 Values')\n",
    "plt.xlabel('Value')\n",
    "plt.ylabel('Frequency')\n",
    "\n",
    "plt.figure(figsize=(20,5))\n",
    "axes = data_math[8745].hist(density=True)\n",
    "plt.title('Histogram of SEC22B Values')\n",
    "plt.xlabel('Value')\n",
    "plt.ylabel('Frequency')\n",
    "#They all look somewhat normally distributed with the exception of NUDT6, no idea what's going on there\n",
    "\n"
   ]
  },
  {
   "cell_type": "code",
   "execution_count": 131,
   "metadata": {},
   "outputs": [
    {
     "name": "stdout",
     "output_type": "stream",
     "text": [
      "(81.96302250998383, 0.9999691339690475, 139)\n",
      "4.929606514321778\n",
      "3.401197381662155\n",
      "Our Mutual Information I(X_k, Y) is: 0.2998026520502548\n",
      "Our H(X | Y) is: 4.6298038622715225 and our H(Y | X) is 3.1013947296119\n"
     ]
    },
    {
     "data": {
      "image/png": "[encoded data removed]",
      "text/plain": [
       "<Figure size 1440x360 with 1 Axes>"
      ]
     },
     "metadata": {
      "needs_background": "light"
     },
     "output_type": "display_data"
    }
   ],
   "source": [
    "#Now let's do some entropy calculations\n",
    "#Let's start with our strongest positive correlation, GRB7\n",
    "import scipy\n",
    "import scipy.stats as stats\n",
    "\n",
    "plt.figure(figsize=(20,5))\n",
    "axes = data_math[7441].hist(density=True)\n",
    "plt.title('Histogram of GRB7 Values')\n",
    "plt.xlabel('Value')\n",
    "plt.ylabel('Frequency')\n",
    "\n",
    "GRB7 = np.array(data_math[7441])\n",
    "expression = np.array(data_math[0])\n",
    "\n",
    "obs = np.array([data_math[0],\n",
    "                  data_math[7441]])\n",
    "\n",
    "print(stats.chi2_contingency(obs)[0:3])\n",
    "#Basic chi-squared test returns a p value of essentially 1, confirming that our GRB7 and expression values\n",
    "#are highly correlated\n",
    "\n",
    "H_X_k = stats.entropy(GRB7);\n",
    "H_Y = stats.entropy(expression);\n",
    "\n",
    "print(stats.entropy(GRB7))\n",
    "print(stats.entropy(expression))\n",
    "\n",
    "#Let's calculate Mutual Information to make finding Conditional Entropy easier\n",
    "from sklearn.metrics import mutual_info_score\n",
    "\n",
    "def calc_MI(x, y, bins):\n",
    "    c_xy = np.histogram2d(x, y, bins)[0]\n",
    "    mi = mutual_info_score(None, None, contingency=c_xy)\n",
    "    return mi\n",
    "\n",
    "I_XY = calc_MI(GRB7, expression, 10);\n",
    "\n",
    "print('Our Mutual Information I(X_k, Y) is:', calc_MI(GRB7, expression, 10))\n",
    "#Nonzero, confirming our variables are not independent\n",
    "\n",
    "#And as I(X,Y) = H(X) − H(X | Y) = H(Y) − H(Y | X)\n",
    "\n",
    "print('Our H(X | Y) is:', H_X_k - I_XY, 'and our H(Y | X) is', H_Y - I_XY)\n",
    "#In both cases, conditional entropy is lower than sole entropy, again further\n",
    "#showing the variables are linked"
   ]
  },
  {
   "cell_type": "code",
   "execution_count": 132,
   "metadata": {},
   "outputs": [
    {
     "name": "stdout",
     "output_type": "stream",
     "text": [
      "(114.53518869606896, 0.9361027225791412, 139)\n",
      "4.936360220347172\n",
      "3.401197381662155\n",
      "Our Mutual Information I(X_k, Y) is: 0.16237290804610252\n",
      "Our H(X | Y) is: 4.773987312301069 and our H(Y | X) is 3.2388244736160523\n"
     ]
    },
    {
     "data": {
      "image/png": "[encoded data removed]",
      "text/plain": [
       "<Figure size 1440x360 with 1 Axes>"
      ]
     },
     "metadata": {
      "needs_background": "light"
     },
     "output_type": "display_data"
    }
   ],
   "source": [
    "#Now let's do the same with our strongest negative correlation, ASB13\n",
    "\n",
    "import scipy\n",
    "import scipy.stats as stats\n",
    "\n",
    "plt.figure(figsize=(20,5))\n",
    "axes = data_math[10734].hist(density=True)\n",
    "plt.title('Histogram of ASB13 Values')\n",
    "plt.xlabel('Value')\n",
    "plt.ylabel('Frequency')\n",
    "\n",
    "ASB13 = np.array(data_math[10734])\n",
    "expression = np.array(data_math[0])\n",
    "\n",
    "obs = np.array([data_math[0],\n",
    "                  data_math[10734]])\n",
    "\n",
    "print(stats.chi2_contingency(obs)[0:3])\n",
    "#Basic chi-squared test returns a p value of not quite 1 like GRB7, but still high enough\n",
    "#to suggest a lack of independence\n",
    "\n",
    "H_X_k = stats.entropy(ASB13);\n",
    "H_Y = stats.entropy(expression);\n",
    "\n",
    "print(stats.entropy(ASB13))\n",
    "print(stats.entropy(expression))\n",
    "\n",
    "#Let's calculate Mutual Information to make finding Conditional Entropy easier\n",
    "from sklearn.metrics import mutual_info_score\n",
    "\n",
    "def calc_MI(x, y, bins):\n",
    "    c_xy = np.histogram2d(x, y, bins)[0]\n",
    "    mi = mutual_info_score(None, None, contingency=c_xy)\n",
    "    return mi\n",
    "\n",
    "I_XY = calc_MI(ASB13, expression, 10);\n",
    "\n",
    "print('Our Mutual Information I(X_k, Y) is:', calc_MI(ASB13, expression, 10))\n",
    "#Nonzero, although smaller than that of expression and GRB7, confirming our variables are not independent\n",
    "\n",
    "#And as I(X,Y) = H(X) − H(X | Y) = H(Y) − H(Y | X)\n",
    "\n",
    "print('Our H(X | Y) is:', H_X_k - I_XY, 'and our H(Y | X) is', H_Y - I_XY)\n",
    "#In both cases, conditional entropy is lower than sole entropy, again further\n",
    "#showing the variables are linked\n",
    "\n",
    "#These have all just been a number of ways to illustrate the same concept, that our expression variable\n",
    "#is far from independent of many of our gene expression variables. Further analysis could include some further analysis\n",
    "#within the genese themselves to determine if the genese that are causing higher or lower expression rates\n",
    "#are linked themselves (could increasing one correlated gene also increase another, creating an amplified)\n",
    "#effect. Although we have only thoroughly analyzed the most positively and negatively correlated genese, \n",
    "#the proof through a number of methods that our expression is in deed not independent of gene expression\n",
    "#suggests that a machine learning algorithm would be able to have some accuracy in predicting breast cancer\n",
    "#expression (although the specific algorithm to use would require some further testing.)"
   ]
  },
  {
   "cell_type": "code",
   "execution_count": 131,
   "metadata": {},
   "outputs": [
    {
     "name": "stdout",
     "output_type": "stream",
     "text": [
      "1604\n",
      "13\n",
      "0                           0\n",
      "633                     PSMD3\n",
      "1752                   STARD3\n",
      "4865                     PNMT\n",
      "6473                   PLXNB2\n",
      "7441                     GRB7\n",
      "7489                    ERBB2\n",
      "8247          MIR6884///MED24\n",
      "8730     LOC102724788///PRODH\n",
      "9277                    GSDMB\n",
      "10734                   ASB13\n",
      "11903                   NUDT6\n",
      "13083                   PGAP3\n",
      "Name: Unnamed: 0, dtype: object\n"
     ]
    }
   ],
   "source": [
    "#Basic rank-sum hypothesis testing \n",
    "import statsmodels.stats.multitest as mt\n",
    "data_math = data_math.transpose()\n",
    "\n",
    "from scipy.stats import ranksums\n",
    "\n",
    "data_math = np.array(data_math);\n",
    "\n",
    "i = 0;\n",
    "num_genes = 0;\n",
    "indices = [];\n",
    "p_vals = [];\n",
    "while i < len(data_math):\n",
    "    x = [];\n",
    "    y = [];\n",
    "    for val in range(0, 140):\n",
    "        if data_math[0, val] == 1:\n",
    "            x.append(data_math[i, val]);\n",
    "        else:\n",
    "            y.append(data_math[i, val]);\n",
    "    stat, p = ranksums(x, y)  \n",
    "    p_vals.append(p)\n",
    "    if p<.05:\n",
    "        num_genes += 1;\n",
    "        indices.append(i)\n",
    "    i += 1;\n",
    "\n",
    "p_corr = mt.multipletests(p_vals, .05);\n",
    "\n",
    "boolvals = p_corr[0]\n",
    "\n",
    "print(num_genes)\n",
    "\n",
    "print(np.count_nonzero(p_corr[0]))\n",
    "\n",
    "print(data['Unnamed: 0'][boolvals])\n"
   ]
  },
  {
   "cell_type": "code",
   "execution_count": 5,
   "metadata": {},
   "outputs": [],
   "source": [
    "from sklearn.model_selection import KFold\n",
    "from sklearn.neighbors import KNeighborsClassifier\n",
    "from sklearn.metrics import balanced_accuracy_score\n",
    "from sklearn.metrics import roc_curve, auc\n",
    "\n",
    "\n",
    "\n",
    "nvals = np.arange(start=1, stop=31);\n",
    "accNN = [];\n",
    "\n",
    "y = data_math[0].transpose();\n",
    "x = data_math[1:].transpose();\n",
    "\n",
    "\n",
    "for i in nvals:\n",
    "    accbalNN = [];\n",
    "    \n",
    "    kf = KFold(n_splits=10, shuffle=True)\n",
    "    for train_index, test_index in kf.split(x):\n",
    "\n",
    "        xtrain, xtest = x[train_index], x[test_index]\n",
    "        ytrain, ytest = y[train_index], y[test_index]\n",
    "\n",
    "        neigh = KNeighborsClassifier(n_neighbors=i)\n",
    "        neigh.fit(xtrain, ytrain)\n",
    "\n",
    "        ypred = neigh.predict(xtest)\n",
    "\n",
    "        accbalNN.append(balanced_accuracy_score(ytest, ypred));\n",
    "        \n",
    "    accNN.append(np.mean(accbalNN));\n",
    "    "
   ]
  },
  {
   "cell_type": "code",
   "execution_count": 6,
   "metadata": {},
   "outputs": [
    {
     "data": {
      "text/plain": [
       "Text(0, 0.5, 'Balanced Accuracy')"
      ]
     },
     "execution_count": 6,
     "metadata": {},
     "output_type": "execute_result"
    },
    {
     "data": {
      "image/png": "[encoded data removed]",
      "text/plain": [
       "<Figure size 432x288 with 1 Axes>"
      ]
     },
     "metadata": {
      "needs_background": "light"
     },
     "output_type": "display_data"
    }
   ],
   "source": [
    "from scipy.interpolate import make_interp_spline\n",
    "\n",
    "plt.figure()\n",
    "plt.plot(nvals, accNN, 'o-')\n",
    "plt.title('Balanced Accuracy as K Varies')\n",
    "plt.xlabel('K')\n",
    "plt.ylabel('Balanced Accuracy')"
   ]
  },
  {
   "cell_type": "code",
   "execution_count": 55,
   "metadata": {},
   "outputs": [
    {
     "data": {
      "image/png": "[encoded data removed]",
      "text/plain": [
       "<Figure size 432x288 with 1 Axes>"
      ]
     },
     "metadata": {
      "needs_background": "light"
     },
     "output_type": "display_data"
    }
   ],
   "source": [
    "import sklearn.metrics as metrics\n",
    "from sklearn.model_selection import train_test_split\n",
    "from sklearn.metrics import roc_auc_score\n",
    "\n",
    "y = data_math[0].transpose();\n",
    "x = data_math[1:].transpose();\n",
    "\n",
    "X_train, X_test, y_train, y_test = train_test_split(x, y, test_size=0.25)\n",
    "\n",
    "knn = KNeighborsClassifier(n_neighbors = 7)\n",
    "knn.fit(X_train,y_train)\n",
    "\n",
    "y_scores = knn.predict_proba(X_test)\n",
    "fpr, tpr, threshold = roc_curve(y_test, y_scores[:, 1])\n",
    "roc_auc = auc(fpr, tpr)\n",
    "\n",
    "plt.title('Receiver Operating Characteristic')\n",
    "plt.plot(fpr, tpr, 'b', label = 'AUC = %0.2f' % roc_auc)\n",
    "plt.legend(loc = 'lower right')\n",
    "plt.plot([0, 1], [0, 1],'r--')\n",
    "plt.xlim([0, 1])\n",
    "plt.ylim([0, 1])\n",
    "plt.ylabel('True Positive Rate')\n",
    "plt.xlabel('False Positive Rate')\n",
    "plt.title('ROC Curve of 7NN')\n",
    "plt.show()"
   ]
  },
  {
   "cell_type": "code",
   "execution_count": 35,
   "metadata": {},
   "outputs": [
    {
     "name": "stdout",
     "output_type": "stream",
     "text": [
      "1\n",
      "2\n"
     ]
    },
    {
     "name": "stderr",
     "output_type": "stream",
     "text": [
      "C:\\Users\\zdbor\\Anaconda3\\lib\\site-packages\\sklearn\\metrics\\classification.py:1437: UserWarning: y_pred contains classes not in y_true\n",
      "  warnings.warn('y_pred contains classes not in y_true')\n"
     ]
    },
    {
     "name": "stdout",
     "output_type": "stream",
     "text": [
      "3\n",
      "4\n",
      "5\n",
      "6\n",
      "7\n",
      "8\n",
      "9\n",
      "10\n",
      "11\n",
      "12\n",
      "13\n",
      "14\n",
      "15\n"
     ]
    },
    {
     "name": "stderr",
     "output_type": "stream",
     "text": [
      "C:\\Users\\zdbor\\Anaconda3\\lib\\site-packages\\sklearn\\metrics\\classification.py:1437: UserWarning: y_pred contains classes not in y_true\n",
      "  warnings.warn('y_pred contains classes not in y_true')\n"
     ]
    },
    {
     "name": "stdout",
     "output_type": "stream",
     "text": [
      "16\n"
     ]
    },
    {
     "name": "stderr",
     "output_type": "stream",
     "text": [
      "C:\\Users\\zdbor\\Anaconda3\\lib\\site-packages\\sklearn\\metrics\\classification.py:1437: UserWarning: y_pred contains classes not in y_true\n",
      "  warnings.warn('y_pred contains classes not in y_true')\n"
     ]
    },
    {
     "name": "stdout",
     "output_type": "stream",
     "text": [
      "17\n",
      "18\n",
      "19\n",
      "20\n",
      "21\n",
      "22\n",
      "23\n"
     ]
    },
    {
     "name": "stderr",
     "output_type": "stream",
     "text": [
      "C:\\Users\\zdbor\\Anaconda3\\lib\\site-packages\\sklearn\\metrics\\classification.py:1437: UserWarning: y_pred contains classes not in y_true\n",
      "  warnings.warn('y_pred contains classes not in y_true')\n"
     ]
    },
    {
     "name": "stdout",
     "output_type": "stream",
     "text": [
      "24\n",
      "25\n",
      "26\n",
      "27\n",
      "28\n",
      "29\n",
      "30\n"
     ]
    }
   ],
   "source": [
    "nvals = np.arange(start=1, stop=31);\n",
    "accNN = [];\n",
    "\n",
    "y = data_math[0].transpose();\n",
    "x = data_math[1:].transpose();\n",
    "\n",
    "\n",
    "for j in nvals:\n",
    "    print(j)\n",
    "    accbalNN = [];\n",
    "\n",
    "    y = data_math[0].transpose();\n",
    "    x = data_math[1:].transpose();\n",
    "    \n",
    "    kf = KFold(n_splits=10, shuffle=True)\n",
    "    for train_index, test_index in kf.split(x):\n",
    "        \n",
    "        y = data_math[0].transpose();\n",
    "        x = data_math[1:].transpose();\n",
    "        \n",
    "\n",
    "        xtrain, xtest = x[train_index], x[test_index]\n",
    "        ytrain, ytest = y[train_index], y[test_index]\n",
    "        \n",
    "        \n",
    "        xtrain = xtrain.transpose();\n",
    "        xtest = xtest.transpose();\n",
    "        \n",
    "        i = 0;\n",
    "        num_genes = 0;\n",
    "        indices = [];\n",
    "        p_vals = [];\n",
    "        while i < len(xtrain):\n",
    "            x = [];\n",
    "            y = [];\n",
    "            for val in range(len(xtrain[0])):\n",
    "                if ytrain[val] == 1:\n",
    "                    x.append(xtrain[i, val]);\n",
    "                else:\n",
    "                    y.append(xtrain[i, val]);\n",
    "            stat, p = ranksums(x, y)  \n",
    "            p_vals.append(p)\n",
    "            if p<.05:\n",
    "                num_genes += 1;\n",
    "                indices.append(i)\n",
    "            i += 1;\n",
    "        \n",
    "        xtrain = xtrain[indices, :];\n",
    "        xtest = xtest[indices, :];\n",
    "        \n",
    "        xtrain = xtrain.transpose();\n",
    "        xtest = xtest.transpose();\n",
    "\n",
    "        neigh = KNeighborsClassifier(n_neighbors=j)\n",
    "        neigh.fit(xtrain, ytrain)\n",
    "\n",
    "        ypred = neigh.predict(xtest)\n",
    "\n",
    "        accbalNN.append(balanced_accuracy_score(ytest, ypred));\n",
    "        \n",
    "    \n",
    "    accNN.append(np.mean(accbalNN));\n",
    "    "
   ]
  },
  {
   "cell_type": "code",
   "execution_count": 37,
   "metadata": {},
   "outputs": [
    {
     "data": {
      "text/plain": [
       "Text(0, 0.5, 'Balanced Accuracy')"
      ]
     },
     "execution_count": 37,
     "metadata": {},
     "output_type": "execute_result"
    },
    {
     "data": {
      "image/png": "[encoded data removed]",
      "text/plain": [
       "<Figure size 432x288 with 1 Axes>"
      ]
     },
     "metadata": {
      "needs_background": "light"
     },
     "output_type": "display_data"
    }
   ],
   "source": [
    "plt.figure()\n",
    "plt.plot(nvals, accNN, 'o-')\n",
    "plt.title('Balanced Accuracy as K Varies')\n",
    "plt.xlabel('K')\n",
    "plt.ylabel('Balanced Accuracy')"
   ]
  },
  {
   "cell_type": "code",
   "execution_count": 60,
   "metadata": {},
   "outputs": [
    {
     "data": {
      "image/png": "[encoded data removed]",
      "text/plain": [
       "<Figure size 432x288 with 1 Axes>"
      ]
     },
     "metadata": {
      "needs_background": "light"
     },
     "output_type": "display_data"
    }
   ],
   "source": [
    "import sklearn.metrics as metrics\n",
    "from sklearn.model_selection import train_test_split\n",
    "from sklearn.metrics import roc_auc_score\n",
    "\n",
    "y = data_math[0].transpose();\n",
    "x = data_math[1:].transpose();\n",
    "\n",
    "xtrain, xtest, ytrain, ytest = train_test_split(x, y, test_size=0.25)\n",
    "\n",
    "\n",
    "xtrain = xtrain.transpose();\n",
    "xtest = xtest.transpose();\n",
    "        \n",
    "i = 0;\n",
    "num_genes = 0;\n",
    "indices = [];\n",
    "p_vals = [];\n",
    "while i < len(xtrain):\n",
    "    x = [];\n",
    "    y = [];\n",
    "    for val in range(len(xtrain[0])):\n",
    "        if ytrain[val] == 1:\n",
    "            x.append(xtrain[i, val]);\n",
    "        else:\n",
    "            y.append(xtrain[i, val]);\n",
    "    stat, p = ranksums(x, y)  \n",
    "    p_vals.append(p)\n",
    "    if p<.05:\n",
    "        num_genes += 1;\n",
    "        indices.append(i)\n",
    "    i += 1;\n",
    "\n",
    "xtrain = xtrain[indices, :];\n",
    "xtest = xtest[indices, :];\n",
    "\n",
    "xtrain = xtrain.transpose();\n",
    "xtest = xtest.transpose();\n",
    "\n",
    "knn = KNeighborsClassifier(n_neighbors = 7)\n",
    "knn.fit(xtrain,ytrain)\n",
    "\n",
    "y_scores = knn.predict_proba(xtest)\n",
    "fpr, tpr, threshold = roc_curve(ytest, y_scores[:, 1])\n",
    "roc_auc = auc(fpr, tpr)\n",
    "\n",
    "plt.title('Receiver Operating Characteristic')\n",
    "plt.plot(fpr, tpr, 'b', label = 'AUC = %0.2f' % roc_auc)\n",
    "plt.legend(loc = 'lower right')\n",
    "plt.plot([0, 1], [0, 1],'r--')\n",
    "plt.xlim([0, 1])\n",
    "plt.ylim([0, 1])\n",
    "plt.ylabel('True Positive Rate')\n",
    "plt.xlabel('False Positive Rate')\n",
    "plt.title('ROC Curve of 7NN')\n",
    "plt.show()\n",
    "\n",
    "\n"
   ]
  },
  {
   "cell_type": "code",
   "execution_count": 63,
   "metadata": {},
   "outputs": [
    {
     "data": {
      "image/png": "[encoded data removed]",
      "text/plain": [
       "<Figure size 432x288 with 1 Axes>"
      ]
     },
     "metadata": {
      "needs_background": "light"
     },
     "output_type": "display_data"
    }
   ],
   "source": [
    "import sklearn.metrics as metrics\n",
    "from sklearn.model_selection import train_test_split\n",
    "from sklearn.metrics import roc_auc_score\n",
    "\n",
    "y = data_math[0].transpose();\n",
    "x = data_math[1:].transpose();\n",
    "\n",
    "xtrain, xtest, ytrain, ytest = train_test_split(x, y, test_size=0.25)\n",
    "\n",
    "\n",
    "xtrain = xtrain.transpose();\n",
    "xtest = xtest.transpose();\n",
    "        \n",
    "i = 0;\n",
    "num_genes = 0;\n",
    "indices = [];\n",
    "p_vals = [];\n",
    "while i < len(xtrain):\n",
    "    x = [];\n",
    "    y = [];\n",
    "    for val in range(len(xtrain[0])):\n",
    "        if ytrain[val] == 1:\n",
    "            x.append(xtrain[i, val]);\n",
    "        else:\n",
    "            y.append(xtrain[i, val]);\n",
    "    stat, p = ranksums(x, y)  \n",
    "    p_vals.append(p)\n",
    "    if p<.05:\n",
    "        num_genes += 1;\n",
    "        indices.append(i)\n",
    "    i += 1;\n",
    "\n",
    "xtrain = xtrain[indices, :];\n",
    "xtest = xtest[indices, :];\n",
    "\n",
    "xtrain = xtrain.transpose();\n",
    "xtest = xtest.transpose();\n",
    "\n",
    "knn = KNeighborsClassifier(n_neighbors = 21)\n",
    "knn.fit(xtrain,ytrain)\n",
    "\n",
    "y_scores = knn.predict_proba(xtest)\n",
    "fpr, tpr, threshold = roc_curve(ytest, y_scores[:, 1])\n",
    "roc_auc = auc(fpr, tpr)\n",
    "\n",
    "plt.title('Receiver Operating Characteristic')\n",
    "plt.plot(fpr, tpr, 'b', label = 'AUC = %0.2f' % roc_auc)\n",
    "plt.legend(loc = 'lower right')\n",
    "plt.plot([0, 1], [0, 1],'r--')\n",
    "plt.xlim([0, 1])\n",
    "plt.ylim([0, 1])\n",
    "plt.ylabel('True Positive Rate')\n",
    "plt.xlabel('False Positive Rate')\n",
    "plt.title('ROC Curve of 21NN')\n",
    "plt.show()\n"
   ]
  },
  {
   "cell_type": "code",
   "execution_count": 68,
   "metadata": {},
   "outputs": [
    {
     "name": "stdout",
     "output_type": "stream",
     "text": [
      "1\n",
      "2\n",
      "3\n",
      "4\n",
      "5\n",
      "6\n",
      "7\n",
      "8\n",
      "9\n",
      "10\n",
      "11\n",
      "12\n",
      "13\n",
      "14\n"
     ]
    },
    {
     "name": "stderr",
     "output_type": "stream",
     "text": [
      "C:\\Users\\zdbor\\Anaconda3\\lib\\site-packages\\sklearn\\metrics\\classification.py:1437: UserWarning: y_pred contains classes not in y_true\n",
      "  warnings.warn('y_pred contains classes not in y_true')\n"
     ]
    },
    {
     "name": "stdout",
     "output_type": "stream",
     "text": [
      "15\n",
      "16\n",
      "17\n",
      "18\n",
      "19\n",
      "20\n",
      "21\n",
      "22\n",
      "23\n",
      "24\n",
      "25\n",
      "26\n",
      "27\n",
      "28\n",
      "29\n",
      "30\n"
     ]
    }
   ],
   "source": [
    "nvals = np.arange(start=1, stop=31);\n",
    "accNN = [];\n",
    "\n",
    "y = data_math[0].transpose();\n",
    "x = data_math[1:].transpose();\n",
    "\n",
    "\n",
    "for j in nvals:\n",
    "    print(j)\n",
    "    accbalNN = [];\n",
    "\n",
    "    y = data_math[0].transpose();\n",
    "    x = data_math[1:].transpose();\n",
    "    \n",
    "    kf = KFold(n_splits=10, shuffle=True)\n",
    "    for train_index, test_index in kf.split(x):\n",
    "        \n",
    "        y = data_math[0].transpose();\n",
    "        x = data_math[1:].transpose();\n",
    "        \n",
    "\n",
    "        xtrain, xtest = x[train_index], x[test_index]\n",
    "        ytrain, ytest = y[train_index], y[test_index]\n",
    "        \n",
    "        \n",
    "        xtrain = xtrain.transpose();\n",
    "        xtest = xtest.transpose();\n",
    "        \n",
    "        i = 0;\n",
    "        num_genes = 0;\n",
    "        indices = [];\n",
    "        p_vals = [];\n",
    "        while i < len(xtrain):\n",
    "            x = [];\n",
    "            y = [];\n",
    "            for val in range(len(xtrain[0])):\n",
    "                if ytrain[val] == 1:\n",
    "                    x.append(xtrain[i, val]);\n",
    "                else:\n",
    "                    y.append(xtrain[i, val]);\n",
    "            stat, p = ranksums(x, y)  \n",
    "            p_vals.append(p)\n",
    "            if p<.05:\n",
    "                num_genes += 1;\n",
    "                indices.append(i)\n",
    "            i += 1;\n",
    "        \n",
    "        p_corr = mt.multipletests(p_vals, .05);\n",
    "        bool_vals = p_corr[0];\n",
    "\n",
    "    \n",
    "        xtrain = xtrain[bool_vals, :];\n",
    "        xtest = xtest[bool_vals, :];\n",
    "        \n",
    "        xtrain = xtrain.transpose();\n",
    "        xtest = xtest.transpose();\n",
    "\n",
    "        neigh = KNeighborsClassifier(n_neighbors=j)\n",
    "        neigh.fit(xtrain, ytrain)\n",
    "\n",
    "        ypred = neigh.predict(xtest)\n",
    "\n",
    "        accbalNN.append(balanced_accuracy_score(ytest, ypred));\n",
    "        \n",
    "    \n",
    "    accNN.append(np.mean(accbalNN));\n",
    "    "
   ]
  },
  {
   "cell_type": "code",
   "execution_count": 69,
   "metadata": {},
   "outputs": [
    {
     "data": {
      "text/plain": [
       "Text(0, 0.5, 'Balanced Accuracy')"
      ]
     },
     "execution_count": 69,
     "metadata": {},
     "output_type": "execute_result"
    },
    {
     "data": {
      "image/png": "[encoded data removed]",
      "text/plain": [
       "<Figure size 432x288 with 1 Axes>"
      ]
     },
     "metadata": {
      "needs_background": "light"
     },
     "output_type": "display_data"
    }
   ],
   "source": [
    "plt.figure()\n",
    "plt.plot(nvals, accNN, 'o-')\n",
    "plt.title('Balanced Accuracy as K Varies')\n",
    "plt.xlabel('K')\n",
    "plt.ylabel('Balanced Accuracy')"
   ]
  },
  {
   "cell_type": "code",
   "execution_count": 99,
   "metadata": {},
   "outputs": [
    {
     "name": "stdout",
     "output_type": "stream",
     "text": [
      "0.8454545454545455\n"
     ]
    },
    {
     "data": {
      "image/png": "[encoded data removed]",
      "text/plain": [
       "<Figure size 432x288 with 1 Axes>"
      ]
     },
     "metadata": {
      "needs_background": "light"
     },
     "output_type": "display_data"
    }
   ],
   "source": [
    "y = data_math[0].transpose();\n",
    "x = data_math[1:].transpose();\n",
    "\n",
    "xtrain, xtest, ytrain, ytest = train_test_split(x, y, test_size=0.25)\n",
    "\n",
    "\n",
    "xtrain = xtrain.transpose();\n",
    "xtest = xtest.transpose();\n",
    "        \n",
    "i = 0;\n",
    "num_genes = 0;\n",
    "indices = [];\n",
    "p_vals = [];\n",
    "while i < len(xtrain):\n",
    "    x = [];\n",
    "    y = [];\n",
    "    for val in range(len(xtrain[0])):\n",
    "        if ytrain[val] == 1:\n",
    "            x.append(xtrain[i, val]);\n",
    "        else:\n",
    "            y.append(xtrain[i, val]);\n",
    "    stat, p = ranksums(x, y)  \n",
    "    p_vals.append(p)\n",
    "    if p<.01:\n",
    "        num_genes += 1;\n",
    "        indices.append(i)\n",
    "    i += 1;\n",
    "\n",
    "p_corr = mt.multipletests(p_vals, .01);\n",
    "bool_vals = p_corr[0];\n",
    "\n",
    "\n",
    "xtrain = xtrain[bool_vals, :];\n",
    "xtest = xtest[bool_vals, :];\n",
    "xtrain = xtrain.transpose();\n",
    "xtest = xtest.transpose();\n",
    "\n",
    "knn = KNeighborsClassifier(n_neighbors = 9)\n",
    "knn.fit(xtrain,ytrain)\n",
    "\n",
    "y = data_math[0].transpose();\n",
    "x = data_math[1:].transpose();\n",
    "\n",
    "x = x.transpose();\n",
    "\n",
    "\n",
    "x = x[bool_vals, :];\n",
    "\n",
    "\n",
    "x = x.transpose();\n",
    "\n",
    "ypred = knn.predict(x)\n",
    "\n",
    "print(balanced_accuracy_score(y, ypred))\n",
    "\n",
    "\n",
    "\n",
    "y_scores = knn.predict_proba(x)\n",
    "fpr, tpr, threshold = roc_curve(y, y_scores[:, 1])\n",
    "roc_auc = auc(fpr, tpr)\n",
    "\n",
    "plt.title('Receiver Operating Characteristic')\n",
    "plt.plot(fpr, tpr, 'b', label = 'AUC = %0.2f' % roc_auc)\n",
    "plt.legend(loc = 'lower right')\n",
    "plt.plot([0, 1], [0, 1],'r--')\n",
    "plt.xlim([0, 1])\n",
    "plt.ylim([0, 1])\n",
    "plt.ylabel('True Positive Rate')\n",
    "plt.xlabel('False Positive Rate')\n",
    "plt.title('ROC Curve of 9NN')\n",
    "plt.show()\n",
    "\n",
    "\n"
   ]
  },
  {
   "cell_type": "code",
   "execution_count": 75,
   "metadata": {},
   "outputs": [
    {
     "name": "stdout",
     "output_type": "stream",
     "text": [
      "0.9642857142857143\n"
     ]
    }
   ],
   "source": [
    "print(1 - np.interp(.8, tpr, fpr))"
   ]
  },
  {
   "cell_type": "code",
   "execution_count": 100,
   "metadata": {},
   "outputs": [
    {
     "name": "stdout",
     "output_type": "stream",
     "text": [
      "1\n",
      "2\n",
      "3\n",
      "4\n",
      "5\n",
      "6\n",
      "7\n",
      "8\n",
      "9\n",
      "10\n",
      "11\n",
      "12\n"
     ]
    },
    {
     "name": "stderr",
     "output_type": "stream",
     "text": [
      "C:\\Users\\zdbor\\Anaconda3\\lib\\site-packages\\sklearn\\metrics\\classification.py:1437: UserWarning: y_pred contains classes not in y_true\n",
      "  warnings.warn('y_pred contains classes not in y_true')\n"
     ]
    },
    {
     "name": "stdout",
     "output_type": "stream",
     "text": [
      "13\n",
      "14\n",
      "15\n",
      "16\n",
      "17\n",
      "18\n",
      "19\n",
      "20\n",
      "21\n",
      "22\n",
      "23\n",
      "24\n",
      "25\n",
      "26\n",
      "27\n",
      "28\n",
      "29\n",
      "30\n"
     ]
    }
   ],
   "source": [
    "nvals = np.arange(start=1, stop=31);\n",
    "accNN = [];\n",
    "\n",
    "y = data_math[0].transpose();\n",
    "x = data_math[1:].transpose();\n",
    "\n",
    "\n",
    "for j in nvals:\n",
    "    print(j)\n",
    "    accbalNN = [];\n",
    "\n",
    "    y = data_math[0].transpose();\n",
    "    x = data_math[1:].transpose();\n",
    "    \n",
    "    kf = KFold(n_splits=10, shuffle=True)\n",
    "    for train_index, test_index in kf.split(x):\n",
    "        \n",
    "        y = data_math[0].transpose();\n",
    "        x = data_math[1:].transpose();\n",
    "        \n",
    "\n",
    "        xtrain, xtest = x[train_index], x[test_index]\n",
    "        ytrain, ytest = y[train_index], y[test_index]\n",
    "        \n",
    "        \n",
    "        xtrain = xtrain.transpose();\n",
    "        xtest = xtest.transpose();\n",
    "        \n",
    "        i = 0;\n",
    "        num_genes = 0;\n",
    "        indices = [];\n",
    "        p_vals = [];\n",
    "        while i < len(xtrain):\n",
    "            x = [];\n",
    "            y = [];\n",
    "            for val in range(len(xtrain[0])):\n",
    "                if ytrain[val] == 1:\n",
    "                    x.append(xtrain[i, val]);\n",
    "                else:\n",
    "                    y.append(xtrain[i, val]);\n",
    "            stat, p = ranksums(x, y)  \n",
    "            p_vals.append(p)\n",
    "            if p<.05:\n",
    "                num_genes += 1;\n",
    "                indices.append(i)\n",
    "            i += 1;\n",
    "        \n",
    "        p_corr = mt.multipletests(p_vals, .05);\n",
    "        bool_vals = p_corr[0];\n",
    "\n",
    "    \n",
    "        xtrain = xtrain[bool_vals, :];\n",
    "        xtest = xtest[bool_vals, :];\n",
    "        \n",
    "        xtrain = xtrain.transpose();\n",
    "        xtest = xtest.transpose();\n",
    "\n",
    "        neigh = KNeighborsClassifier(n_neighbors=j)\n",
    "        neigh.fit(xtrain, ytrain)\n",
    "\n",
    "        ypred = neigh.predict(xtest)\n",
    "\n",
    "        accbalNN.append(balanced_accuracy_score(ytest, ypred));\n",
    "        \n",
    "    \n",
    "    accNN.append(np.mean(accbalNN));\n",
    "    "
   ]
  },
  {
   "cell_type": "code",
   "execution_count": 101,
   "metadata": {},
   "outputs": [
    {
     "data": {
      "text/plain": [
       "Text(0, 0.5, 'Balanced Accuracy')"
      ]
     },
     "execution_count": 101,
     "metadata": {},
     "output_type": "execute_result"
    },
    {
     "data": {
      "image/png": "[encoded data removed]",
      "text/plain": [
       "<Figure size 432x288 with 1 Axes>"
      ]
     },
     "metadata": {
      "needs_background": "light"
     },
     "output_type": "display_data"
    }
   ],
   "source": [
    "plt.figure()\n",
    "plt.plot(nvals, accNN, 'o-')\n",
    "plt.title('Balanced Accuracy as N Varies')\n",
    "plt.xlabel('N')\n",
    "plt.ylabel('Balanced Accuracy')"
   ]
  },
  {
   "cell_type": "code",
   "execution_count": 102,
   "metadata": {},
   "outputs": [
    {
     "name": "stdout",
     "output_type": "stream",
     "text": [
      "10\n",
      "20\n",
      "30\n",
      "40\n",
      "50\n",
      "60\n",
      "70\n",
      "80\n",
      "90\n",
      "100\n",
      "None\n"
     ]
    }
   ],
   "source": [
    "#RANDOM FOREST\n",
    "from sklearn.ensemble import RandomForestClassifier\n",
    "\n",
    "nvals = [10, 20, 30, 40, 50, 60, 70, 80, 90, 100, None];\n",
    "accRF = [];\n",
    "\n",
    "y = data_math[0].transpose();\n",
    "x = data_math[1:].transpose();\n",
    "\n",
    "\n",
    "for j in nvals:\n",
    "    print(j)\n",
    "    accbalRF = [];\n",
    "\n",
    "    y = data_math[0].transpose();\n",
    "    x = data_math[1:].transpose();\n",
    "    \n",
    "    kf = KFold(n_splits=10, shuffle=True)\n",
    "    for train_index, test_index in kf.split(x):\n",
    "        \n",
    "        y = data_math[0].transpose();\n",
    "        x = data_math[1:].transpose();\n",
    "        \n",
    "\n",
    "        xtrain, xtest = x[train_index], x[test_index]\n",
    "        ytrain, ytest = y[train_index], y[test_index]\n",
    "        \n",
    "        \n",
    "        xtrain = xtrain.transpose();\n",
    "        xtest = xtest.transpose();\n",
    "        \n",
    "        i = 0;\n",
    "        num_genes = 0;\n",
    "        indices = [];\n",
    "        p_vals = [];\n",
    "        while i < len(xtrain):\n",
    "            x = [];\n",
    "            y = [];\n",
    "            for val in range(len(xtrain[0])):\n",
    "                if ytrain[val] == 1:\n",
    "                    x.append(xtrain[i, val]);\n",
    "                else:\n",
    "                    y.append(xtrain[i, val]);\n",
    "            stat, p = ranksums(x, y)  \n",
    "            p_vals.append(p)\n",
    "            if p<.05:\n",
    "                num_genes += 1;\n",
    "                indices.append(i)\n",
    "            i += 1;\n",
    "        \n",
    "        p_corr = mt.multipletests(p_vals, .05);\n",
    "        bool_vals = p_corr[0];\n",
    "\n",
    "    \n",
    "        xtrain = xtrain[bool_vals, :];\n",
    "        xtest = xtest[bool_vals, :];\n",
    "        \n",
    "        xtrain = xtrain.transpose();\n",
    "        xtest = xtest.transpose();\n",
    "\n",
    "        clf = RandomForestClassifier(n_estimators=100, max_depth=j)\n",
    "        clf.fit(xtrain, ytrain)\n",
    "\n",
    "        ypred = clf.predict(xtest)\n",
    "\n",
    "        accbalRF.append(balanced_accuracy_score(ytest, ypred));\n",
    "        \n",
    "    \n",
    "    accRF.append(np.mean(accbalRF));\n",
    "    "
   ]
  },
  {
   "cell_type": "code",
   "execution_count": 108,
   "metadata": {},
   "outputs": [
    {
     "name": "stdout",
     "output_type": "stream",
     "text": [
      "0.89989898989899\n"
     ]
    },
    {
     "data": {
      "image/png": "[encoded data removed]",
      "text/plain": [
       "<Figure size 432x288 with 1 Axes>"
      ]
     },
     "metadata": {
      "needs_background": "light"
     },
     "output_type": "display_data"
    }
   ],
   "source": [
    "plt.figure()\n",
    "plt.plot(nvals, accRF, 'o-')\n",
    "plt.title('Balanced Accuracy as Max Depth Varies')\n",
    "plt.xlabel('Max Depth')\n",
    "plt.ylabel('Balanced Accuracy')\n",
    "plt.legend(['None = .899'])\n",
    "print(accRF[10])"
   ]
  },
  {
   "cell_type": "code",
   "execution_count": 124,
   "metadata": {},
   "outputs": [
    {
     "name": "stdout",
     "output_type": "stream",
     "text": [
      "0.9666666666666667\n"
     ]
    },
    {
     "data": {
      "image/png": "[encoded data removed]",
      "text/plain": [
       "<Figure size 432x288 with 1 Axes>"
      ]
     },
     "metadata": {
      "needs_background": "light"
     },
     "output_type": "display_data"
    }
   ],
   "source": [
    "import sklearn.metrics as metrics\n",
    "from sklearn.model_selection import train_test_split\n",
    "from sklearn.metrics import roc_auc_score\n",
    "\n",
    "y = data_math[0].transpose();\n",
    "x = data_math[1:].transpose();\n",
    "\n",
    "xtrain, xtest, ytrain, ytest = train_test_split(x, y, test_size=0.25)\n",
    "\n",
    "\n",
    "xtrain = xtrain.transpose();\n",
    "xtest = xtest.transpose();\n",
    "        \n",
    "i = 0;\n",
    "num_genes = 0;\n",
    "indices = [];\n",
    "p_vals = [];\n",
    "while i < len(xtrain):\n",
    "    x = [];\n",
    "    y = [];\n",
    "    for val in range(len(xtrain[0])):\n",
    "        if ytrain[val] == 1:\n",
    "            x.append(xtrain[i, val]);\n",
    "        else:\n",
    "            y.append(xtrain[i, val]);\n",
    "    stat, p = ranksums(x, y)  \n",
    "    p_vals.append(p)\n",
    "    if p<.05:\n",
    "        num_genes += 1;\n",
    "        indices.append(i)\n",
    "    i += 1;\n",
    "\n",
    "p_corr = mt.multipletests(p_vals, .05);\n",
    "bool_vals = p_corr[0];\n",
    "\n",
    "xtrain = xtrain[bool_vals, :];\n",
    "xtest = xtest[bool_vals, :];\n",
    "        \n",
    "xtrain = xtrain.transpose();\n",
    "xtest = xtest.transpose();\n",
    "\n",
    "clf = RandomForestClassifier(n_estimators=100, max_depth=70)\n",
    "clf.fit(xtrain, ytrain)\n",
    "\n",
    "y = data_math[0].transpose();\n",
    "x = data_math[1:].transpose();\n",
    "\n",
    "x = x.transpose();\n",
    "\n",
    "\n",
    "x = x[bool_vals, :];\n",
    "\n",
    "\n",
    "x = x.transpose();\n",
    "\n",
    "\n",
    "\n",
    "\n",
    "ypred = clf.predict(x)\n",
    "\n",
    "\n",
    "print(balanced_accuracy_score(y, ypred))\n",
    "\n",
    "y_scores = clf.predict_proba(xtest)\n",
    "fpr, tpr, threshold = roc_curve(ytest, y_scores[:, 1])\n",
    "roc_auc = auc(fpr, tpr)\n",
    "\n",
    "plt.title('Receiver Operating Characteristic')\n",
    "plt.plot(fpr, tpr, 'b', label = 'AUC = %0.2f' % roc_auc)\n",
    "plt.legend(loc = 'lower right')\n",
    "plt.plot([0, 1], [0, 1],'r--')\n",
    "plt.xlim([0, 1])\n",
    "plt.ylim([0, 1])\n",
    "plt.ylabel('True Positive Rate')\n",
    "plt.xlabel('False Positive Rate')\n",
    "plt.title('ROC Curve of Random Forest, Max Depth=70')\n",
    "plt.show()\n"
   ]
  },
  {
   "cell_type": "code",
   "execution_count": 120,
   "metadata": {},
   "outputs": [
    {
     "name": "stdout",
     "output_type": "stream",
     "text": [
      "0.9259259259259259\n"
     ]
    }
   ],
   "source": [
    "print(1 - np.interp(.8, tpr, fpr))"
   ]
  },
  {
   "cell_type": "code",
   "execution_count": null,
   "metadata": {},
   "outputs": [],
   "source": []
  },
  {
   "cell_type": "code",
   "execution_count": null,
   "metadata": {},
   "outputs": [],
   "source": []
  },
  {
   "cell_type": "code",
   "execution_count": null,
   "metadata": {},
   "outputs": [],
   "source": []
  },
  {
   "cell_type": "code",
   "execution_count": 22,
   "metadata": {},
   "outputs": [
    {
     "name": "stdout",
     "output_type": "stream",
     "text": [
      "Our mean accuracy for NN is: 0.8428571428571429\n",
      "Our mean balanced accuracy for NN is: 0.6458333333333333\n"
     ]
    },
    {
     "name": "stderr",
     "output_type": "stream",
     "text": [
      "C:\\Users\\zdbor\\Anaconda3\\lib\\site-packages\\sklearn\\ensemble\\forest.py:246: FutureWarning: The default value of n_estimators will change from 10 in version 0.20 to 100 in 0.22.\n",
      "  \"10 in version 0.20 to 100 in 0.22.\", FutureWarning)\n",
      "C:\\Users\\zdbor\\Anaconda3\\lib\\site-packages\\sklearn\\ensemble\\forest.py:246: FutureWarning: The default value of n_estimators will change from 10 in version 0.20 to 100 in 0.22.\n",
      "  \"10 in version 0.20 to 100 in 0.22.\", FutureWarning)\n",
      "C:\\Users\\zdbor\\Anaconda3\\lib\\site-packages\\sklearn\\ensemble\\forest.py:246: FutureWarning: The default value of n_estimators will change from 10 in version 0.20 to 100 in 0.22.\n",
      "  \"10 in version 0.20 to 100 in 0.22.\", FutureWarning)\n",
      "C:\\Users\\zdbor\\Anaconda3\\lib\\site-packages\\sklearn\\ensemble\\forest.py:246: FutureWarning: The default value of n_estimators will change from 10 in version 0.20 to 100 in 0.22.\n",
      "  \"10 in version 0.20 to 100 in 0.22.\", FutureWarning)\n",
      "C:\\Users\\zdbor\\Anaconda3\\lib\\site-packages\\sklearn\\ensemble\\forest.py:246: FutureWarning: The default value of n_estimators will change from 10 in version 0.20 to 100 in 0.22.\n",
      "  \"10 in version 0.20 to 100 in 0.22.\", FutureWarning)\n",
      "C:\\Users\\zdbor\\Anaconda3\\lib\\site-packages\\sklearn\\ensemble\\forest.py:246: FutureWarning: The default value of n_estimators will change from 10 in version 0.20 to 100 in 0.22.\n",
      "  \"10 in version 0.20 to 100 in 0.22.\", FutureWarning)\n",
      "C:\\Users\\zdbor\\Anaconda3\\lib\\site-packages\\sklearn\\ensemble\\forest.py:246: FutureWarning: The default value of n_estimators will change from 10 in version 0.20 to 100 in 0.22.\n",
      "  \"10 in version 0.20 to 100 in 0.22.\", FutureWarning)\n",
      "C:\\Users\\zdbor\\Anaconda3\\lib\\site-packages\\sklearn\\ensemble\\forest.py:246: FutureWarning: The default value of n_estimators will change from 10 in version 0.20 to 100 in 0.22.\n",
      "  \"10 in version 0.20 to 100 in 0.22.\", FutureWarning)\n",
      "C:\\Users\\zdbor\\Anaconda3\\lib\\site-packages\\sklearn\\ensemble\\forest.py:246: FutureWarning: The default value of n_estimators will change from 10 in version 0.20 to 100 in 0.22.\n",
      "  \"10 in version 0.20 to 100 in 0.22.\", FutureWarning)\n",
      "C:\\Users\\zdbor\\Anaconda3\\lib\\site-packages\\sklearn\\ensemble\\forest.py:246: FutureWarning: The default value of n_estimators will change from 10 in version 0.20 to 100 in 0.22.\n",
      "  \"10 in version 0.20 to 100 in 0.22.\", FutureWarning)\n",
      "C:\\Users\\zdbor\\Anaconda3\\lib\\site-packages\\sklearn\\linear_model\\logistic.py:433: FutureWarning: Default solver will be changed to 'lbfgs' in 0.22. Specify a solver to silence this warning.\n",
      "  FutureWarning)\n"
     ]
    },
    {
     "name": "stdout",
     "output_type": "stream",
     "text": [
      "Our mean accuracy for RF is: 0.8\n",
      "Our mean balanced accuracy for RF is: 0.5620629370629371\n"
     ]
    },
    {
     "name": "stderr",
     "output_type": "stream",
     "text": [
      "C:\\Users\\zdbor\\Anaconda3\\lib\\site-packages\\sklearn\\linear_model\\logistic.py:433: FutureWarning: Default solver will be changed to 'lbfgs' in 0.22. Specify a solver to silence this warning.\n",
      "  FutureWarning)\n",
      "C:\\Users\\zdbor\\Anaconda3\\lib\\site-packages\\sklearn\\linear_model\\logistic.py:433: FutureWarning: Default solver will be changed to 'lbfgs' in 0.22. Specify a solver to silence this warning.\n",
      "  FutureWarning)\n",
      "C:\\Users\\zdbor\\Anaconda3\\lib\\site-packages\\sklearn\\linear_model\\logistic.py:433: FutureWarning: Default solver will be changed to 'lbfgs' in 0.22. Specify a solver to silence this warning.\n",
      "  FutureWarning)\n",
      "C:\\Users\\zdbor\\Anaconda3\\lib\\site-packages\\sklearn\\linear_model\\logistic.py:433: FutureWarning: Default solver will be changed to 'lbfgs' in 0.22. Specify a solver to silence this warning.\n",
      "  FutureWarning)\n",
      "C:\\Users\\zdbor\\Anaconda3\\lib\\site-packages\\sklearn\\linear_model\\logistic.py:433: FutureWarning: Default solver will be changed to 'lbfgs' in 0.22. Specify a solver to silence this warning.\n",
      "  FutureWarning)\n",
      "C:\\Users\\zdbor\\Anaconda3\\lib\\site-packages\\sklearn\\linear_model\\logistic.py:433: FutureWarning: Default solver will be changed to 'lbfgs' in 0.22. Specify a solver to silence this warning.\n",
      "  FutureWarning)\n",
      "C:\\Users\\zdbor\\Anaconda3\\lib\\site-packages\\sklearn\\linear_model\\logistic.py:433: FutureWarning: Default solver will be changed to 'lbfgs' in 0.22. Specify a solver to silence this warning.\n",
      "  FutureWarning)\n",
      "C:\\Users\\zdbor\\Anaconda3\\lib\\site-packages\\sklearn\\linear_model\\logistic.py:433: FutureWarning: Default solver will be changed to 'lbfgs' in 0.22. Specify a solver to silence this warning.\n",
      "  FutureWarning)\n",
      "C:\\Users\\zdbor\\Anaconda3\\lib\\site-packages\\sklearn\\linear_model\\logistic.py:433: FutureWarning: Default solver will be changed to 'lbfgs' in 0.22. Specify a solver to silence this warning.\n",
      "  FutureWarning)\n"
     ]
    },
    {
     "name": "stdout",
     "output_type": "stream",
     "text": [
      "Our mean accuracy for LR is: 0.8785714285714284\n",
      "Our mean balanced accuracy for LR is: 0.7108333333333333\n"
     ]
    }
   ],
   "source": [
    "#Let's train a nearest neighbors classifier on the whole dataset\n",
    "\n",
    "from sklearn.neighbors import KNeighborsClassifier\n",
    "from sklearn.model_selection import KFold\n",
    "from sklearn.ensemble import RandomForestClassifier\n",
    "from sklearn.linear_model import LogisticRegression\n",
    "from sklearn.metrics import balanced_accuracy_score\n",
    "\n",
    "\n",
    "\n",
    "\n",
    "accNN = [];\n",
    "accbalNN = [];\n",
    "\n",
    "kf = KFold(n_splits=10, shuffle=True)\n",
    "for train_index, test_index in kf.split(x):\n",
    "    \n",
    "    y = data_math[0].transpose();\n",
    "    x = data_math[1:].transpose();\n",
    "    \n",
    "    xtrain, xtest = x[train_index], x[test_index]\n",
    "    ytrain, ytest = y[train_index], y[test_index]\n",
    "    \n",
    "    neigh = KNeighborsClassifier(n_neighbors=5)\n",
    "    neigh.fit(xtrain, ytrain)\n",
    "\n",
    "    ypred = neigh.predict(xtest)\n",
    "\n",
    "    i = 0;\n",
    "    acc_val_NN = 0;\n",
    "    while i < len(ypred):\n",
    "        if ypred[i] == ytest[i]:\n",
    "            acc_val_NN += 1;\n",
    "        i += 1;\n",
    "\n",
    "    accNN.append(acc_val_NN / len(ypred));\n",
    "    \n",
    "    accbalNN.append(balanced_accuracy_score(ytest, ypred));\n",
    "\n",
    "print('Our mean accuracy for NN is:', np.mean(accNN))\n",
    "print('Our mean balanced accuracy for NN is:', np.mean(accbalNN))\n",
    "\n",
    "accRF = [];\n",
    "accbalRF = [];\n",
    "\n",
    "kf = KFold(n_splits=10, shuffle=True)\n",
    "for train_index, test_index in kf.split(x):\n",
    "    xtrain, xtest = x[train_index], x[test_index]\n",
    "    ytrain, ytest = y[train_index], y[test_index]\n",
    "    \n",
    "    clf = RandomForestClassifier()\n",
    "    clf.fit(xtrain, ytrain)\n",
    "\n",
    "\n",
    "    ypred = clf.predict(xtest)\n",
    "\n",
    "    i = 0;\n",
    "    acc_val_RF = 0;\n",
    "    while i < len(ypred):\n",
    "        if ypred[i] == ytest[i]:\n",
    "            acc_val_RF += 1;\n",
    "        i += 1;\n",
    "\n",
    "    accRF.append(acc_val_RF / len(ypred));\n",
    "    \n",
    "    accbalRF.append(balanced_accuracy_score(ytest, ypred));\n",
    "\n",
    "print('Our mean accuracy for RF is:', np.mean(accRF))\n",
    "print('Our mean balanced accuracy for RF is:', np.mean(accbalRF))\n",
    "\n",
    "accLR = [];\n",
    "accbalLR = [];\n",
    "\n",
    "kf = KFold(n_splits=10, shuffle=True)\n",
    "for train_index, test_index in kf.split(x):\n",
    "    xtrain, xtest = x[train_index], x[test_index]\n",
    "    ytrain, ytest = y[train_index], y[test_index]\n",
    "    \n",
    "    model = LogisticRegression()\n",
    "    model.fit(xtrain, ytrain)\n",
    "\n",
    "    ypred = model.predict(xtest)\n",
    "\n",
    "    i = 0;\n",
    "    acc_val_LR = 0;\n",
    "    while i < len(ypred):\n",
    "        if ypred[i] == ytest[i]:\n",
    "            acc_val_LR += 1;\n",
    "        i += 1;\n",
    "\n",
    "    accLR.append(acc_val_LR / len(ypred));\n",
    "    \n",
    "    accbalLR.append(balanced_accuracy_score(ytest, ypred));\n",
    "    \n",
    "\n",
    "print('Our mean accuracy for LR is:', np.mean(accLR))\n",
    "print('Our mean balanced accuracy for LR is:', np.mean(accbalLR))\n",
    "\n",
    "\n",
    "\n",
    "\n",
    "\n"
   ]
  },
  {
   "cell_type": "code",
   "execution_count": 24,
   "metadata": {},
   "outputs": [
    {
     "name": "stdout",
     "output_type": "stream",
     "text": [
      "Our mean accuracy for NN is: 0.8571428571428571\n",
      "Our mean balanced accuracy for NN is: 0.8225000000000001\n"
     ]
    },
    {
     "name": "stderr",
     "output_type": "stream",
     "text": [
      "C:\\Users\\zdbor\\Anaconda3\\lib\\site-packages\\sklearn\\ensemble\\forest.py:246: FutureWarning: The default value of n_estimators will change from 10 in version 0.20 to 100 in 0.22.\n",
      "  \"10 in version 0.20 to 100 in 0.22.\", FutureWarning)\n",
      "C:\\Users\\zdbor\\Anaconda3\\lib\\site-packages\\sklearn\\ensemble\\forest.py:246: FutureWarning: The default value of n_estimators will change from 10 in version 0.20 to 100 in 0.22.\n",
      "  \"10 in version 0.20 to 100 in 0.22.\", FutureWarning)\n",
      "C:\\Users\\zdbor\\Anaconda3\\lib\\site-packages\\sklearn\\ensemble\\forest.py:246: FutureWarning: The default value of n_estimators will change from 10 in version 0.20 to 100 in 0.22.\n",
      "  \"10 in version 0.20 to 100 in 0.22.\", FutureWarning)\n",
      "C:\\Users\\zdbor\\Anaconda3\\lib\\site-packages\\sklearn\\ensemble\\forest.py:246: FutureWarning: The default value of n_estimators will change from 10 in version 0.20 to 100 in 0.22.\n",
      "  \"10 in version 0.20 to 100 in 0.22.\", FutureWarning)\n",
      "C:\\Users\\zdbor\\Anaconda3\\lib\\site-packages\\sklearn\\ensemble\\forest.py:246: FutureWarning: The default value of n_estimators will change from 10 in version 0.20 to 100 in 0.22.\n",
      "  \"10 in version 0.20 to 100 in 0.22.\", FutureWarning)\n",
      "C:\\Users\\zdbor\\Anaconda3\\lib\\site-packages\\sklearn\\ensemble\\forest.py:246: FutureWarning: The default value of n_estimators will change from 10 in version 0.20 to 100 in 0.22.\n",
      "  \"10 in version 0.20 to 100 in 0.22.\", FutureWarning)\n",
      "C:\\Users\\zdbor\\Anaconda3\\lib\\site-packages\\sklearn\\ensemble\\forest.py:246: FutureWarning: The default value of n_estimators will change from 10 in version 0.20 to 100 in 0.22.\n",
      "  \"10 in version 0.20 to 100 in 0.22.\", FutureWarning)\n",
      "C:\\Users\\zdbor\\Anaconda3\\lib\\site-packages\\sklearn\\ensemble\\forest.py:246: FutureWarning: The default value of n_estimators will change from 10 in version 0.20 to 100 in 0.22.\n",
      "  \"10 in version 0.20 to 100 in 0.22.\", FutureWarning)\n",
      "C:\\Users\\zdbor\\Anaconda3\\lib\\site-packages\\sklearn\\ensemble\\forest.py:246: FutureWarning: The default value of n_estimators will change from 10 in version 0.20 to 100 in 0.22.\n",
      "  \"10 in version 0.20 to 100 in 0.22.\", FutureWarning)\n",
      "C:\\Users\\zdbor\\Anaconda3\\lib\\site-packages\\sklearn\\ensemble\\forest.py:246: FutureWarning: The default value of n_estimators will change from 10 in version 0.20 to 100 in 0.22.\n",
      "  \"10 in version 0.20 to 100 in 0.22.\", FutureWarning)\n"
     ]
    },
    {
     "name": "stdout",
     "output_type": "stream",
     "text": [
      "Our mean accuracy for RF is: 0.8428571428571429\n",
      "Our mean balanced accuracy for RF is: 0.7022402597402598\n"
     ]
    },
    {
     "name": "stderr",
     "output_type": "stream",
     "text": [
      "C:\\Users\\zdbor\\Anaconda3\\lib\\site-packages\\sklearn\\linear_model\\logistic.py:433: FutureWarning: Default solver will be changed to 'lbfgs' in 0.22. Specify a solver to silence this warning.\n",
      "  FutureWarning)\n",
      "C:\\Users\\zdbor\\Anaconda3\\lib\\site-packages\\sklearn\\linear_model\\logistic.py:433: FutureWarning: Default solver will be changed to 'lbfgs' in 0.22. Specify a solver to silence this warning.\n",
      "  FutureWarning)\n",
      "C:\\Users\\zdbor\\Anaconda3\\lib\\site-packages\\sklearn\\linear_model\\logistic.py:433: FutureWarning: Default solver will be changed to 'lbfgs' in 0.22. Specify a solver to silence this warning.\n",
      "  FutureWarning)\n",
      "C:\\Users\\zdbor\\Anaconda3\\lib\\site-packages\\sklearn\\linear_model\\logistic.py:433: FutureWarning: Default solver will be changed to 'lbfgs' in 0.22. Specify a solver to silence this warning.\n",
      "  FutureWarning)\n",
      "C:\\Users\\zdbor\\Anaconda3\\lib\\site-packages\\sklearn\\linear_model\\logistic.py:433: FutureWarning: Default solver will be changed to 'lbfgs' in 0.22. Specify a solver to silence this warning.\n",
      "  FutureWarning)\n",
      "C:\\Users\\zdbor\\Anaconda3\\lib\\site-packages\\sklearn\\linear_model\\logistic.py:433: FutureWarning: Default solver will be changed to 'lbfgs' in 0.22. Specify a solver to silence this warning.\n",
      "  FutureWarning)\n",
      "C:\\Users\\zdbor\\Anaconda3\\lib\\site-packages\\sklearn\\linear_model\\logistic.py:433: FutureWarning: Default solver will be changed to 'lbfgs' in 0.22. Specify a solver to silence this warning.\n",
      "  FutureWarning)\n",
      "C:\\Users\\zdbor\\Anaconda3\\lib\\site-packages\\sklearn\\linear_model\\logistic.py:433: FutureWarning: Default solver will be changed to 'lbfgs' in 0.22. Specify a solver to silence this warning.\n",
      "  FutureWarning)\n",
      "C:\\Users\\zdbor\\Anaconda3\\lib\\site-packages\\sklearn\\linear_model\\logistic.py:433: FutureWarning: Default solver will be changed to 'lbfgs' in 0.22. Specify a solver to silence this warning.\n",
      "  FutureWarning)\n"
     ]
    },
    {
     "name": "stdout",
     "output_type": "stream",
     "text": [
      "Our mean accuracy for LR is: 0.9285714285714286\n",
      "Our mean balanced accuracy for LR is: 0.845\n"
     ]
    },
    {
     "name": "stderr",
     "output_type": "stream",
     "text": [
      "C:\\Users\\zdbor\\Anaconda3\\lib\\site-packages\\sklearn\\linear_model\\logistic.py:433: FutureWarning: Default solver will be changed to 'lbfgs' in 0.22. Specify a solver to silence this warning.\n",
      "  FutureWarning)\n"
     ]
    }
   ],
   "source": [
    "from sklearn.metrics import roc_curve, auc\n",
    "\n",
    "accNN = [];\n",
    "accbalNN = [];\n",
    "\n",
    "kf = KFold(n_splits=10, shuffle=True)\n",
    "for train_index, test_index in kf.split(x):\n",
    "    i = 1;\n",
    "    num_genes = 0;\n",
    "    indices = [];\n",
    "    p_vals = [];\n",
    "    while i < len(data_math):\n",
    "        x = [];\n",
    "        y = [];\n",
    "        for val in range(0, 140):\n",
    "            if data_math[0, val] == 1:\n",
    "                x.append(data_math[i, val]);\n",
    "            else:\n",
    "                y.append(data_math[i, val]);\n",
    "        stat, p = ranksums(x, y)  \n",
    "        p_vals.append(p)\n",
    "        if p<.05:\n",
    "            num_genes += 1;\n",
    "            indices.append(i)\n",
    "        i += 1;\n",
    "    \n",
    "    \n",
    "    indices_up = np.insert(indices, 0, 0, axis=0)\n",
    "    data_math_corr = data_math[indices_up, :]\n",
    "    \n",
    "    y = data_math_corr[0].transpose();\n",
    "    x = data_math_corr[1:].transpose();\n",
    "\n",
    "    \n",
    "    xtrain, xtest = x[train_index], x[test_index]\n",
    "    ytrain, ytest = y[train_index], y[test_index]\n",
    "    \n",
    "    neigh = KNeighborsClassifier(n_neighbors=5)\n",
    "    neigh.fit(xtrain, ytrain)\n",
    "\n",
    "    ypred = neigh.predict(xtest)\n",
    "\n",
    "    i = 0;\n",
    "    acc_val = 0;\n",
    "    fp_val = 0;\n",
    "    while i < len(ypred):\n",
    "        if ypred[i] == ytest[i]:\n",
    "            acc_val += 1;\n",
    "        elif ypred[i] == 1 and ytest[i] == 0:\n",
    "            fp_val += 1;\n",
    "        i += 1;\n",
    "\n",
    "    accNN.append(acc_val_NN / len(ypred));\n",
    "    \n",
    "    accbalNN.append(balanced_accuracy_score(ytest, ypred));\n",
    "\n",
    "print('Our mean accuracy for NN is:', np.mean(accNN))\n",
    "print('Our mean balanced accuracy for NN is:', np.mean(accbalNN))\n",
    "\n",
    "accRF = [];\n",
    "accbalRF = [];\n",
    "fpRF = [];\n",
    "\n",
    "kf = KFold(n_splits=10, shuffle=True)\n",
    "for train_index, test_index in kf.split(x):\n",
    "    i = 1;\n",
    "    num_genes = 0;\n",
    "    indices = [];\n",
    "    p_vals = [];\n",
    "    while i < len(data_math):\n",
    "        x = [];\n",
    "        y = [];\n",
    "        for val in range(0, 140):\n",
    "            if data_math[0, val] == 1:\n",
    "                x.append(data_math[i, val]);\n",
    "            else:\n",
    "                y.append(data_math[i, val]);\n",
    "        stat, p = ranksums(x, y)  \n",
    "        p_vals.append(p)\n",
    "        if p<.05:\n",
    "            num_genes += 1;\n",
    "            indices.append(i)\n",
    "        i += 1;\n",
    "    \n",
    "    \n",
    "    indices_up = np.insert(indices, 0, 0, axis=0)\n",
    "    data_math_corr = data_math[indices_up, :]\n",
    "    \n",
    "    y = data_math_corr[0].transpose();\n",
    "    x = data_math_corr[1:].transpose();\n",
    "\n",
    "    xtrain, xtest = x[train_index], x[test_index]\n",
    "    ytrain, ytest = y[train_index], y[test_index]\n",
    "    \n",
    "    clf = RandomForestClassifier()\n",
    "    clf.fit(xtrain, ytrain)\n",
    "\n",
    "\n",
    "    ypred = clf.predict(xtest)\n",
    "\n",
    "    i = 0;\n",
    "    acc_val_RF = 0;\n",
    "    fp_val_RF = 0;\n",
    "    while i < len(ypred):\n",
    "        if ypred[i] == ytest[i]:\n",
    "            acc_val_RF += 1;\n",
    "        elif ypred[i] == 1 and ytest[i] == 0:\n",
    "            fp_val_RF += 1;\n",
    "        i += 1;\n",
    "\n",
    "    accRF.append(acc_val_RF / len(ypred));\n",
    "    fpRF.append(fp_val_RF / len(ypred));\n",
    "    \n",
    "    accbalRF.append(balanced_accuracy_score(ytest, ypred));\n",
    "\n",
    "print('Our mean accuracy for RF is:', np.mean(accRF))\n",
    "print('Our mean balanced accuracy for RF is:', np.mean(accbalRF))\n",
    "\n",
    "accLR = [];\n",
    "accbalLR = []\n",
    "fpr = [];\n",
    "tpr = [];\n",
    "\n",
    "kf = KFold(n_splits=10, shuffle=True)\n",
    "for train_index, test_index in kf.split(x):\n",
    "    i = 1;\n",
    "    num_genes = 0;\n",
    "    indices = [];\n",
    "    p_vals = [];\n",
    "    while i < len(data_math):\n",
    "        x = [];\n",
    "        y = [];\n",
    "        for val in range(0, 140):\n",
    "            if data_math[0, val] == 1:\n",
    "                x.append(data_math[i, val]);\n",
    "            else:\n",
    "                y.append(data_math[i, val]);\n",
    "        stat, p = ranksums(x, y)  \n",
    "        p_vals.append(p)\n",
    "        if p<.05:\n",
    "            num_genes += 1;\n",
    "            indices.append(i)\n",
    "        i += 1;\n",
    "    \n",
    "    \n",
    "    indices_up = np.insert(indices, 0, 0, axis=0)\n",
    "    data_math_corr = data_math[indices_up, :]\n",
    "    \n",
    "    y = data_math_corr[0].transpose();\n",
    "    x = data_math_corr[1:].transpose();\n",
    "    xtrain, xtest = x[train_index], x[test_index]\n",
    "    ytrain, ytest = y[train_index], y[test_index]\n",
    "    \n",
    "    model = LogisticRegression()\n",
    "    model.fit(xtrain, ytrain)\n",
    "\n",
    "    ypred = model.predict(xtest)\n",
    "\n",
    "    i = 0;\n",
    "    acc_val_LR = 0;\n",
    "    while i < len(ypred):\n",
    "        if ypred[i] == ytest[i]:\n",
    "            acc_val_LR += 1;\n",
    "        i += 1;\n",
    "\n",
    "    accLR.append(acc_val_LR / len(ypred));\n",
    "    \n",
    "    accbalLR.append(balanced_accuracy_score(ytest, ypred));\n",
    "\n",
    "\n",
    "print('Our mean accuracy for LR is:', np.mean(accLR))\n",
    "print('Our mean balanced accuracy for LR is:', np.mean(accbalLR))\n"
   ]
  },
  {
   "cell_type": "code",
   "execution_count": 125,
   "metadata": {},
   "outputs": [
    {
     "ename": "KeyboardInterrupt",
     "evalue": "",
     "output_type": "error",
     "traceback": [
      "\u001b[1;31m---------------------------------------------------------------------------\u001b[0m",
      "\u001b[1;31mKeyboardInterrupt\u001b[0m                         Traceback (most recent call last)",
      "\u001b[1;32m<ipython-input-125-39c46fa2d541>\u001b[0m in \u001b[0;36m<module>\u001b[1;34m\u001b[0m\n\u001b[0;32m     17\u001b[0m             \u001b[1;32melse\u001b[0m\u001b[1;33m:\u001b[0m\u001b[1;33m\u001b[0m\u001b[1;33m\u001b[0m\u001b[0m\n\u001b[0;32m     18\u001b[0m                 \u001b[0my\u001b[0m\u001b[1;33m.\u001b[0m\u001b[0mappend\u001b[0m\u001b[1;33m(\u001b[0m\u001b[0mdata_math\u001b[0m\u001b[1;33m[\u001b[0m\u001b[0mi\u001b[0m\u001b[1;33m,\u001b[0m \u001b[0mval\u001b[0m\u001b[1;33m]\u001b[0m\u001b[1;33m)\u001b[0m\u001b[1;33m;\u001b[0m\u001b[1;33m\u001b[0m\u001b[1;33m\u001b[0m\u001b[0m\n\u001b[1;32m---> 19\u001b[1;33m         \u001b[0mstat\u001b[0m\u001b[1;33m,\u001b[0m \u001b[0mp\u001b[0m \u001b[1;33m=\u001b[0m \u001b[0mranksums\u001b[0m\u001b[1;33m(\u001b[0m\u001b[0mx\u001b[0m\u001b[1;33m,\u001b[0m \u001b[0my\u001b[0m\u001b[1;33m)\u001b[0m\u001b[1;33m\u001b[0m\u001b[1;33m\u001b[0m\u001b[0m\n\u001b[0m\u001b[0;32m     20\u001b[0m         \u001b[0mp_vals\u001b[0m\u001b[1;33m.\u001b[0m\u001b[0mappend\u001b[0m\u001b[1;33m(\u001b[0m\u001b[0mp\u001b[0m\u001b[1;33m)\u001b[0m\u001b[1;33m\u001b[0m\u001b[1;33m\u001b[0m\u001b[0m\n\u001b[0;32m     21\u001b[0m         \u001b[1;32mif\u001b[0m \u001b[0mp\u001b[0m\u001b[1;33m<\u001b[0m\u001b[1;36m.05\u001b[0m\u001b[1;33m:\u001b[0m\u001b[1;33m\u001b[0m\u001b[1;33m\u001b[0m\u001b[0m\n",
      "\u001b[1;32m~\\Anaconda3\\lib\\site-packages\\scipy\\stats\\stats.py\u001b[0m in \u001b[0;36mranksums\u001b[1;34m(x, y)\u001b[0m\n\u001b[0;32m   4964\u001b[0m     \u001b[0mn1\u001b[0m \u001b[1;33m=\u001b[0m \u001b[0mlen\u001b[0m\u001b[1;33m(\u001b[0m\u001b[0mx\u001b[0m\u001b[1;33m)\u001b[0m\u001b[1;33m\u001b[0m\u001b[1;33m\u001b[0m\u001b[0m\n\u001b[0;32m   4965\u001b[0m     \u001b[0mn2\u001b[0m \u001b[1;33m=\u001b[0m \u001b[0mlen\u001b[0m\u001b[1;33m(\u001b[0m\u001b[0my\u001b[0m\u001b[1;33m)\u001b[0m\u001b[1;33m\u001b[0m\u001b[1;33m\u001b[0m\u001b[0m\n\u001b[1;32m-> 4966\u001b[1;33m     \u001b[0malldata\u001b[0m \u001b[1;33m=\u001b[0m \u001b[0mnp\u001b[0m\u001b[1;33m.\u001b[0m\u001b[0mconcatenate\u001b[0m\u001b[1;33m(\u001b[0m\u001b[1;33m(\u001b[0m\u001b[0mx\u001b[0m\u001b[1;33m,\u001b[0m \u001b[0my\u001b[0m\u001b[1;33m)\u001b[0m\u001b[1;33m)\u001b[0m\u001b[1;33m\u001b[0m\u001b[1;33m\u001b[0m\u001b[0m\n\u001b[0m\u001b[0;32m   4967\u001b[0m     \u001b[0mranked\u001b[0m \u001b[1;33m=\u001b[0m \u001b[0mrankdata\u001b[0m\u001b[1;33m(\u001b[0m\u001b[0malldata\u001b[0m\u001b[1;33m)\u001b[0m\u001b[1;33m\u001b[0m\u001b[1;33m\u001b[0m\u001b[0m\n\u001b[0;32m   4968\u001b[0m     \u001b[0mx\u001b[0m \u001b[1;33m=\u001b[0m \u001b[0mranked\u001b[0m\u001b[1;33m[\u001b[0m\u001b[1;33m:\u001b[0m\u001b[0mn1\u001b[0m\u001b[1;33m]\u001b[0m\u001b[1;33m\u001b[0m\u001b[1;33m\u001b[0m\u001b[0m\n",
      "\u001b[1;31mKeyboardInterrupt\u001b[0m: "
     ]
    }
   ],
   "source": [
    "accNN = [];\n",
    "accbalNN = [];\n",
    "fpnn = [];\n",
    "\n",
    "kf = KFold(n_splits=10, shuffle=True)\n",
    "for train_index, test_index in kf.split(x):\n",
    "    i = 1;\n",
    "    num_genes = 0;\n",
    "    indices = [];\n",
    "    p_vals = [];\n",
    "    while i < len(data_math):\n",
    "        x = [];\n",
    "        y = [];\n",
    "        for val in range(0, 140):\n",
    "            if data_math[0, val] == 1:\n",
    "                x.append(data_math[i, val]);\n",
    "            else:\n",
    "                y.append(data_math[i, val]);\n",
    "        stat, p = ranksums(x, y)  \n",
    "        p_vals.append(p)\n",
    "        if p<.05:\n",
    "            num_genes += 1;\n",
    "            indices.append(i)\n",
    "        i += 1;\n",
    "\n",
    "    p_corr = mt.multipletests(p_vals, .05);\n",
    "    bool_vals = p_corr[0];\n",
    "    \n",
    "    bool_vals = np.insert(bool_vals,0, True);\n",
    "    data_math_corr = data_math[bool_vals, :]\n",
    "\n",
    "\n",
    "\n",
    "    y = data_math_corr[0].transpose();\n",
    "    x = data_math_corr[1:].transpose();\n",
    "\n",
    "    xtrain, xtest = x[train_index], x[test_index]\n",
    "    ytrain, ytest = y[train_index], y[test_index]\n",
    "    \n",
    "    neigh = KNeighborsClassifier(n_neighbors=5)\n",
    "    neigh.fit(xtrain, ytrain)\n",
    "\n",
    "    ypred = neigh.predict(xtest)\n",
    "\n",
    "    i = 0;\n",
    "    acc_val = 0;\n",
    "    fp_val = 0;\n",
    "    while i < len(ypred):\n",
    "        if ypred[i] == ytest[i]:\n",
    "            acc_val += 1;\n",
    "        elif ypred[i] == 1 and ytest[i] == 0:\n",
    "            fp_val += 1;\n",
    "        i += 1;\n",
    "\n",
    "    accNN.append(acc_val / len(ypred));\n",
    "    fpnn.append(fp_val / len(ypred))\n",
    "    \n",
    "    accbalNN.append(balanced_accuracy_score(ytest, ypred));\n",
    "\n",
    "print('Our mean accuracy for NN is:', np.mean(accNN))\n",
    "print('Our mean balanced accuracy for NN is:', np.mean(accbalNN))\n",
    "\n",
    "accRF = [];\n",
    "accbalRF = [];\n",
    "fpRF = [];\n",
    "\n",
    "kf = KFold(n_splits=10, shuffle=True)\n",
    "for train_index, test_index in kf.split(x):\n",
    "    i = 1;\n",
    "    num_genes = 0;\n",
    "    indices = [];\n",
    "    p_vals = [];\n",
    "    while i < len(data_math):\n",
    "        x = [];\n",
    "        y = [];\n",
    "        for val in range(0, 140):\n",
    "            if data_math[0, val] == 1:\n",
    "                x.append(data_math[i, val]);\n",
    "            else:\n",
    "                y.append(data_math[i, val]);\n",
    "        stat, p = ranksums(x, y)  \n",
    "        p_vals.append(p)\n",
    "        if p<.05:\n",
    "            num_genes += 1;\n",
    "            indices.append(i)\n",
    "        i += 1;\n",
    "\n",
    "    p_corr = mt.multipletests(p_vals, .05);\n",
    "    bool_vals = p_corr[0];\n",
    "    \n",
    "    bool_vals = np.insert(bool_vals,0, True);\n",
    "    data_math_corr = data_math[bool_vals, :]\n",
    "\n",
    "\n",
    "\n",
    "    y = data_math_corr[0].transpose();\n",
    "    x = data_math_corr[1:].transpose();\n",
    "\n",
    "    xtrain, xtest = x[train_index], x[test_index]\n",
    "    ytrain, ytest = y[train_index], y[test_index]\n",
    "    \n",
    "    clf = RandomForestClassifier(n_estimators=100, max_depth=70)\n",
    "    clf.fit(xtrain, ytrain)\n",
    "\n",
    "\n",
    "    ypred = clf.predict(xtest)\n",
    "\n",
    "    i = 0;\n",
    "    acc_val_RF = 0;\n",
    "    fp_val_RF = 0;\n",
    "    while i < len(ypred):\n",
    "        if ypred[i] == ytest[i]:\n",
    "            acc_val_RF += 1;\n",
    "        elif ypred[i] == 1 and ytest[i] == 0:\n",
    "            fp_val_RF += 1;\n",
    "        i += 1;\n",
    "\n",
    "    accRF.append(acc_val_RF / len(ypred));\n",
    "    fpRF.append(fp_val_RF / len(ypred));\n",
    "    \n",
    "    accbalRF.append(balanced_accuracy_score(ytest, ypred));\n",
    "\n",
    "print('Our mean accuracy for RF is:', np.mean(accRF))\n",
    "print('Our mean balanced accuracy for RF is:', np.mean(accbalRF))\n",
    "\n",
    "\n",
    "accLR = [];\n",
    "accbalLR  = [];\n",
    "fpr = [];\n",
    "tpr = [];\n",
    "\n",
    "kf = KFold(n_splits=10, shuffle=True)\n",
    "for train_index, test_index in kf.split(x):\n",
    "    i = 1;\n",
    "    num_genes = 0;\n",
    "    indices = [];\n",
    "    p_vals = [];\n",
    "    while i < len(data_math):\n",
    "        x = [];\n",
    "        y = [];\n",
    "        for val in range(0, 140):\n",
    "            if data_math[0, val] == 1:\n",
    "                x.append(data_math[i, val]);\n",
    "            else:\n",
    "                y.append(data_math[i, val]);\n",
    "        stat, p = ranksums(x, y)  \n",
    "        p_vals.append(p)\n",
    "        if p<.05:\n",
    "            num_genes += 1;\n",
    "            indices.append(i)\n",
    "        i += 1;\n",
    "\n",
    "    p_corr = mt.multipletests(p_vals, .05);\n",
    "    bool_vals = p_corr[0];\n",
    "    \n",
    "    bool_vals = np.insert(bool_vals,0, True);\n",
    "    data_math_corr = data_math[bool_vals, :]\n",
    "\n",
    "\n",
    "\n",
    "    y = data_math_corr[0].transpose();\n",
    "    x = data_math_corr[1:].transpose();\n",
    "\n",
    "    xtrain, xtest = x[train_index], x[test_index]\n",
    "    ytrain, ytest = y[train_index], y[test_index]\n",
    "    \n",
    "    model = LogisticRegression()\n",
    "    model.fit(xtrain, ytrain)\n",
    "\n",
    "    ypred = model.predict(xtest)\n",
    "\n",
    "    i = 0;\n",
    "    acc_val_LR = 0;\n",
    "    while i < len(ypred):\n",
    "        if ypred[i] == ytest[i]:\n",
    "            acc_val_LR += 1;\n",
    "        i += 1;\n",
    "\n",
    "    accLR.append(acc_val_LR / len(ypred));\n",
    "\n",
    "    accbalLR.append(balanced_accuracy_score(ytest, ypred));\n",
    "\n",
    "print('Our mean accuracy for LR is:', np.mean(accLR))\n",
    "print('Our mean balanced accuracy for LR is:', np.mean(accbalLR))\n",
    "\n"
   ]
  },
  {
   "cell_type": "code",
   "execution_count": 157,
   "metadata": {},
   "outputs": [
    {
     "name": "stdout",
     "output_type": "stream",
     "text": [
      "0.07884615384615386\n"
     ]
    }
   ],
   "source": [
    "\n"
   ]
  }
 ],
 "metadata": {
  "kernelspec": {
   "display_name": "Python 3",
   "language": "python",
   "name": "python3"
  },
  "language_info": {
   "codemirror_mode": {
    "name": "ipython",
    "version": 3
   },
   "file_extension": ".py",
   "mimetype": "text/x-python",
   "name": "python",
   "nbconvert_exporter": "python",
   "pygments_lexer": "ipython3",
   "version": "3.7.1"
  }
 },
 "nbformat": 4,
 "nbformat_minor": 2
}
